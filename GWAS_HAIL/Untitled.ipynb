{
 "cells": [
  {
   "cell_type": "code",
   "execution_count": 1,
   "metadata": {},
   "outputs": [],
   "source": [
    "import hail as hl"
   ]
  },
  {
   "cell_type": "code",
   "execution_count": 2,
   "metadata": {},
   "outputs": [
    {
     "name": "stdout",
     "output_type": "stream",
     "text": [
      "\u001b[0m\u001b[34;42m1_gwas_variants.vds\u001b[0m/                \u001b[01;32mUntitled2.ipynb\u001b[0m*\r\n",
      "\u001b[01;32m1_merge_mfi.sh\u001b[0m*                     \u001b[01;32mUntitled3.ipynb\u001b[0m*\r\n",
      "\u001b[01;32m1_merge_mfi.sh~\u001b[0m*                    \u001b[01;32mcollect.py\u001b[0m*\r\n",
      "\u001b[01;32m2_fam_sqc_merge.R\u001b[0m*                  \u001b[34;42mdata\u001b[0m/\r\n",
      "\u001b[01;32m2_fam_sqc_merge.R~\u001b[0m*                 \u001b[01;32mgwas.bat~\u001b[0m*\r\n",
      "\u001b[01;32m3_make_sample_qc_table.py\u001b[0m*          \u001b[01;32mgwas.rc\u001b[0m*\r\n",
      "\u001b[01;32m3_make_sample_qc_table.py~\u001b[0m*         \u001b[01;32mgwas.rc~\u001b[0m*\r\n",
      "\u001b[01;32m4_build_pipelines.py\u001b[0m*               \u001b[01;32mhail-20211115-2245-0.2.78-0d33f03a1908.log\u001b[0m*\r\n",
      "\u001b[01;32m4_build_pipelines.py~\u001b[0m*              \u001b[01;32mhail-20211122-1021-0.2.78-0d33f03a1908.log\u001b[0m*\r\n",
      "\u001b[01;32m5_make_variant_annotation_vds.py\u001b[0m*   \u001b[01;32mhail-20211122-2301-0.2.78-0d33f03a1908.log\u001b[0m*\r\n",
      "\u001b[01;32m5_make_variant_annotation_vds.py~\u001b[0m*  \u001b[01;32mhail-20211122-2302-0.2.78-0d33f03a1908.log\u001b[0m*\r\n",
      "\u001b[01;32m6_filter_gwas_variants.py\u001b[0m*          \u001b[01;32mhail-20211123-1056-0.2.78-0d33f03a1908.log\u001b[0m*\r\n",
      "\u001b[01;32m6_filter_gwas_variants.py~\u001b[0m*         \u001b[01;32mman.html\u001b[0m*\r\n",
      "\u001b[34;42m6_gwas_variants.vds\u001b[0m/                \u001b[01;32mprepareBgen.py\u001b[0m*\r\n",
      "\u001b[01;32m7_run_linreg3.py\u001b[0m*                   \u001b[01;32mqq_plot.html\u001b[0m*\r\n",
      "\u001b[01;32m7_run_linreg3.py~\u001b[0m*                  \u001b[34;42mresults.kt\u001b[0m/\r\n",
      "\u001b[01;32m8_export_results.py\u001b[0m*                \u001b[01;32mrun_gwas.py\u001b[0m*\r\n",
      "\u001b[01;32mGwasTutorial.ipynb\u001b[0m*                 \u001b[01;32mrun_single_phenotype.py\u001b[0m*\r\n",
      "\u001b[01;32mManhattan_plot.R\u001b[0m*                   \u001b[01;32mrun_step5.rc\u001b[0m*\r\n",
      "\u001b[01;32mPracticeHail.ipynb\u001b[0m*                 \u001b[01;32mtest.tsv\u001b[0m*\r\n",
      "\u001b[01;32mQQ_plot.R\u001b[0m*                          \u001b[01;32mtestGwas.py\u001b[0m*\r\n",
      "\u001b[01;32mREADME.md\u001b[0m*                          \u001b[01;32mtestGwas.py~\u001b[0m*\r\n",
      "\u001b[01;32mUntitled.ipynb\u001b[0m*                     \u001b[01;32mvar_count.py\u001b[0m*\r\n",
      "\u001b[01;32mUntitled1.ipynb\u001b[0m*\r\n"
     ]
    }
   ],
   "source": [
    "%ls"
   ]
  },
  {
   "cell_type": "code",
   "execution_count": 3,
   "metadata": {},
   "outputs": [
    {
     "name": "stderr",
     "output_type": "stream",
     "text": [
      "Initializing Hail with default parameters...\n"
     ]
    },
    {
     "name": "stdout",
     "output_type": "stream",
     "text": [
      "2021-11-23 10:57:00 WARN  Utils:69 - Your hostname, DESKTOP-TVGJHK2 resolves to a loopback address: 127.0.1.1; using 172.19.80.1 instead (on interface eth1)\n",
      "2021-11-23 10:57:00 WARN  Utils:69 - Set SPARK_LOCAL_IP if you need to bind to another address\n"
     ]
    },
    {
     "name": "stderr",
     "output_type": "stream",
     "text": [
      "WARNING: An illegal reflective access operation has occurred\n",
      "WARNING: Illegal reflective access by org.apache.spark.unsafe.Platform (file:/home/remote/.local/lib/python3.8/site-packages/pyspark/jars/spark-unsafe_2.12-3.1.2.jar) to constructor java.nio.DirectByteBuffer(long,int)\n",
      "WARNING: Please consider reporting this to the maintainers of org.apache.spark.unsafe.Platform\n",
      "WARNING: Use --illegal-access=warn to enable warnings of further illegal reflective access operations\n",
      "WARNING: All illegal access operations will be denied in a future release\n"
     ]
    },
    {
     "name": "stdout",
     "output_type": "stream",
     "text": [
      "2021-11-23 10:57:01 WARN  NativeCodeLoader:60 - Unable to load native-hadoop library for your platform... using builtin-java classes where applicable\n"
     ]
    },
    {
     "name": "stderr",
     "output_type": "stream",
     "text": [
      "Setting default log level to \"WARN\".\n",
      "To adjust logging level use sc.setLogLevel(newLevel). For SparkR, use setLogLevel(newLevel).\n"
     ]
    },
    {
     "name": "stdout",
     "output_type": "stream",
     "text": [
      "2021-11-23 10:57:02 WARN  Hail:43 - This Hail JAR was compiled for Spark 3.1.1, running with Spark 3.1.2.\n",
      "  Compatibility is not guaranteed.\n"
     ]
    },
    {
     "name": "stderr",
     "output_type": "stream",
     "text": [
      "Running on Apache Spark version 3.1.2\n",
      "SparkUI available at http://172.19.80.1:4040\n",
      "Welcome to\n",
      "     __  __     <>__\n",
      "    / /_/ /__  __/ /\n",
      "   / __  / _ `/ / /\n",
      "  /_/ /_/\\_,_/_/_/   version 0.2.78-0d33f03a1908\n",
      "LOGGING: writing to /mnt/d/UKB/GWAS_HAIL/hail-20211123-1056-0.2.78-0d33f03a1908.log\n"
     ]
    }
   ],
   "source": [
    "chr1= hl.read_matrix_table(\"1_gwas_variants.vds\")"
   ]
  },
  {
   "cell_type": "code",
   "execution_count": 12,
   "metadata": {},
   "outputs": [
    {
     "data": {
      "text/plain": [
       "(640082, 334342)"
      ]
     },
     "execution_count": 12,
     "metadata": {},
     "output_type": "execute_result"
    }
   ],
   "source": [
    "chr1.count()"
   ]
  },
  {
   "cell_type": "code",
   "execution_count": 5,
   "metadata": {},
   "outputs": [],
   "source": [
    "chr6= hl.read_matrix_table(\"6_gwas_variants.vds\")"
   ]
  },
  {
   "cell_type": "code",
   "execution_count": 9,
   "metadata": {},
   "outputs": [],
   "source": [
    "dataset_result = chr1.union_rows(chr6)"
   ]
  },
  {
   "cell_type": "code",
   "execution_count": 11,
   "metadata": {},
   "outputs": [
    {
     "data": {
      "text/plain": [
       "(1188489, 334342)"
      ]
     },
     "execution_count": 11,
     "metadata": {},
     "output_type": "execute_result"
    }
   ],
   "source": [
    "dataset_result.count()"
   ]
  },
  {
   "cell_type": "code",
   "execution_count": null,
   "metadata": {},
   "outputs": [],
   "source": []
  }
 ],
 "metadata": {
  "kernelspec": {
   "display_name": "Python 3 (ipykernel)",
   "language": "python",
   "name": "python3"
  },
  "language_info": {
   "codemirror_mode": {
    "name": "ipython",
    "version": 3
   },
   "file_extension": ".py",
   "mimetype": "text/x-python",
   "name": "python",
   "nbconvert_exporter": "python",
   "pygments_lexer": "ipython3",
   "version": "3.8.5"
  }
 },
 "nbformat": 4,
 "nbformat_minor": 4
}
