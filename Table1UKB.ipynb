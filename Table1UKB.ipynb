{
 "cells": [
  {
   "cell_type": "code",
   "execution_count": 1,
   "metadata": {},
   "outputs": [],
   "source": [
    "import pandas as pd\n",
    "import numpy as np"
   ]
  },
  {
   "cell_type": "markdown",
   "metadata": {},
   "source": [
    "Need to get:\n",
    "\n",
    "\n",
    "Age at first visit ukb45494  21003-0.0\n",
    "\n",
    "Sex ukb45494 31-0.0\n",
    "\n",
    "Ancestry (white british) ukb45494 21000-0.0\n",
    "\n",
    "Body mass index (BMI) BMI.csv 21001-0.0\n",
    "\n",
    "Hypertension Date ukb47615 131286-0.0\n",
    "\n",
    "Pulse rate ukb47615 102-0.0\n",
    "\n",
    "LVEF ukb45494 22420-2.0 \n",
    "\n",
    "LVEDV ukb45494\t22421-2.0\t\n",
    "\n",
    "LVES  ukb45494 22422-2.0\t\n",
    "\n",
    "Diabetes ukb47615 2443-0.0\n",
    "\n",
    "Prior Myocardial Infarction Date ukb47615 42000-0.0 \n",
    "\n",
    "BSA ukb45494 22427-2.0\t\n",
    "\n",
    "LVEDVi make it yourself\n",
    "\n",
    "LVESVi make it yourself\n",
    "\n",
    "TAKEN MRI OR NO"
   ]
  },
  {
   "cell_type": "code",
   "execution_count": 2,
   "metadata": {},
   "outputs": [],
   "source": [
    "fields = ['eid', '21003-0.0', '31-0.0', '21000-0.0', '22420-2.0', '22421-2.0', '22422-2.0', '22427-2.0', '53-0.0']\n",
    "df1 = pd.read_csv(\"I:/UKB_DATA/main_df/ukb45494.csv\", usecols = fields)"
   ]
  },
  {
   "cell_type": "code",
   "execution_count": 3,
   "metadata": {},
   "outputs": [],
   "source": [
    "df1 =df1.rename(columns = {'21003-0.0': 'age',\n",
    "                    '31-0.0': 'sex',\n",
    "                    '21000-0.0': 'ancestry',\n",
    "                    '22420-2.0': 'LVEF',\n",
    "                    '22421-2.0': 'LVEDV',\n",
    "                    '22422-2.0': 'LVESV',\n",
    "                    '22427-2.0': 'BSA',\n",
    "                    '53-0.0': 'first_visit_date'\n",
    "                   })"
   ]
  },
  {
   "cell_type": "code",
   "execution_count": 4,
   "metadata": {},
   "outputs": [],
   "source": [
    "df1['LVEDVi'] = df1['LVEDV']/df1['BSA']\n",
    "df1['LVESVi'] = df1['LVESV']/df1['BSA']"
   ]
  },
  {
   "cell_type": "code",
   "execution_count": 5,
   "metadata": {},
   "outputs": [],
   "source": [
    "df1['ancestry'] = df1['ancestry']==1001.0"
   ]
  },
  {
   "cell_type": "code",
   "execution_count": 6,
   "metadata": {},
   "outputs": [],
   "source": [
    "df1.to_csv(\"I:/UKB_DATA/table1/all_UKB.csv\", index=False)"
   ]
  },
  {
   "cell_type": "markdown",
   "metadata": {},
   "source": [
    "Next read BMI.csv"
   ]
  },
  {
   "cell_type": "code",
   "execution_count": 7,
   "metadata": {},
   "outputs": [],
   "source": [
    "df = pd.read_csv(\"I:/UKB_DATA/table1/all_UKB.csv\")"
   ]
  },
  {
   "cell_type": "code",
   "execution_count": 8,
   "metadata": {},
   "outputs": [],
   "source": [
    "df2 = pd.read_csv(\"I:/UKB_DATA/main_df/BMI.csv\")"
   ]
  },
  {
   "cell_type": "code",
   "execution_count": 9,
   "metadata": {},
   "outputs": [
    {
     "data": {
      "text/html": [
       "<div>\n",
       "<style scoped>\n",
       "    .dataframe tbody tr th:only-of-type {\n",
       "        vertical-align: middle;\n",
       "    }\n",
       "\n",
       "    .dataframe tbody tr th {\n",
       "        vertical-align: top;\n",
       "    }\n",
       "\n",
       "    .dataframe thead th {\n",
       "        text-align: right;\n",
       "    }\n",
       "</style>\n",
       "<table border=\"1\" class=\"dataframe\">\n",
       "  <thead>\n",
       "    <tr style=\"text-align: right;\">\n",
       "      <th></th>\n",
       "      <th>eid</th>\n",
       "      <th>21001-0.0</th>\n",
       "    </tr>\n",
       "  </thead>\n",
       "  <tbody>\n",
       "    <tr>\n",
       "      <th>0</th>\n",
       "      <td>1000012</td>\n",
       "      <td>22.8462</td>\n",
       "    </tr>\n",
       "    <tr>\n",
       "      <th>1</th>\n",
       "      <td>1000029</td>\n",
       "      <td>25.2788</td>\n",
       "    </tr>\n",
       "    <tr>\n",
       "      <th>2</th>\n",
       "      <td>1000031</td>\n",
       "      <td>21.9116</td>\n",
       "    </tr>\n",
       "    <tr>\n",
       "      <th>3</th>\n",
       "      <td>1000047</td>\n",
       "      <td>26.9560</td>\n",
       "    </tr>\n",
       "    <tr>\n",
       "      <th>4</th>\n",
       "      <td>1000050</td>\n",
       "      <td>21.8522</td>\n",
       "    </tr>\n",
       "    <tr>\n",
       "      <th>...</th>\n",
       "      <td>...</td>\n",
       "      <td>...</td>\n",
       "    </tr>\n",
       "    <tr>\n",
       "      <th>502408</th>\n",
       "      <td>6024860</td>\n",
       "      <td>22.1920</td>\n",
       "    </tr>\n",
       "    <tr>\n",
       "      <th>502409</th>\n",
       "      <td>6024874</td>\n",
       "      <td>23.0841</td>\n",
       "    </tr>\n",
       "    <tr>\n",
       "      <th>502410</th>\n",
       "      <td>6024887</td>\n",
       "      <td>32.5789</td>\n",
       "    </tr>\n",
       "    <tr>\n",
       "      <th>502411</th>\n",
       "      <td>6024893</td>\n",
       "      <td>20.8300</td>\n",
       "    </tr>\n",
       "    <tr>\n",
       "      <th>502412</th>\n",
       "      <td>6024902</td>\n",
       "      <td>29.1513</td>\n",
       "    </tr>\n",
       "  </tbody>\n",
       "</table>\n",
       "<p>502413 rows × 2 columns</p>\n",
       "</div>"
      ],
      "text/plain": [
       "            eid  21001-0.0\n",
       "0       1000012    22.8462\n",
       "1       1000029    25.2788\n",
       "2       1000031    21.9116\n",
       "3       1000047    26.9560\n",
       "4       1000050    21.8522\n",
       "...         ...        ...\n",
       "502408  6024860    22.1920\n",
       "502409  6024874    23.0841\n",
       "502410  6024887    32.5789\n",
       "502411  6024893    20.8300\n",
       "502412  6024902    29.1513\n",
       "\n",
       "[502413 rows x 2 columns]"
      ]
     },
     "execution_count": 9,
     "metadata": {},
     "output_type": "execute_result"
    }
   ],
   "source": [
    "df2[['eid', '21001-0.0']]"
   ]
  },
  {
   "cell_type": "code",
   "execution_count": 10,
   "metadata": {},
   "outputs": [],
   "source": [
    "df2 = df2.rename(columns={'21001-0.0':'BMI'})"
   ]
  },
  {
   "cell_type": "code",
   "execution_count": 11,
   "metadata": {},
   "outputs": [],
   "source": [
    "df = df.merge(df2, on='eid', how='left')"
   ]
  },
  {
   "cell_type": "code",
   "execution_count": 12,
   "metadata": {},
   "outputs": [],
   "source": [
    "df.to_csv(\"I:/UKB_DATA/table1/all_UKB.csv\", index=False)"
   ]
  },
  {
   "cell_type": "markdown",
   "metadata": {},
   "source": [
    "Now read ukb47615"
   ]
  },
  {
   "cell_type": "code",
   "execution_count": 21,
   "metadata": {},
   "outputs": [],
   "source": [
    "df = pd.read_csv(\"I:/UKB_DATA/table1/all_UKB.csv\")"
   ]
  },
  {
   "cell_type": "code",
   "execution_count": 13,
   "metadata": {},
   "outputs": [
    {
     "name": "stderr",
     "output_type": "stream",
     "text": [
      "C:\\ProgramData\\Anaconda3\\lib\\site-packages\\IPython\\core\\interactiveshell.py:3071: DtypeWarning: Columns (4885) have mixed types.Specify dtype option on import or set low_memory=False.\n",
      "  has_raised = await self.run_ast_nodes(code_ast.body, cell_name,\n"
     ]
    }
   ],
   "source": [
    "fields = ['eid', '131286-0.0', '2443-0.0', '42000-0.0', '102-0.0']\n",
    "df3 = pd.read_csv(\"I:/UKB_DATA/main_df/ukb47615.csv\", usecols=fields)"
   ]
  },
  {
   "cell_type": "code",
   "execution_count": 14,
   "metadata": {},
   "outputs": [],
   "source": [
    "df3 = df3.rename(columns = {'131286-0.0':'hypertension' ,\n",
    "                      '2443-0.0':'diabetes',\n",
    "                      '42000-0.0':'MI',\n",
    "                      '102-0.0': 'pulse_rate'})"
   ]
  },
  {
   "cell_type": "code",
   "execution_count": 19,
   "metadata": {},
   "outputs": [],
   "source": [
    "df3['diabetes'] = df3['diabetes']==1"
   ]
  },
  {
   "cell_type": "code",
   "execution_count": 24,
   "metadata": {},
   "outputs": [],
   "source": [
    "df3['MI'] = df3['MI'].fillna(\"2021-03-31\")"
   ]
  },
  {
   "cell_type": "code",
   "execution_count": 25,
   "metadata": {},
   "outputs": [],
   "source": [
    "df3['hypertension'] = df3['hypertension'].fillna(\"2021-03-31\")"
   ]
  },
  {
   "cell_type": "code",
   "execution_count": 31,
   "metadata": {},
   "outputs": [],
   "source": [
    "from datetime import date\n"
   ]
  },
  {
   "cell_type": "code",
   "execution_count": 30,
   "metadata": {},
   "outputs": [],
   "source": [
    "df = df.merge(df3, on='eid', how='left')"
   ]
  },
  {
   "cell_type": "code",
   "execution_count": 32,
   "metadata": {},
   "outputs": [],
   "source": [
    "def comes_after(date1,date2):\n",
    "    \"\"\"\n",
    "    Arguments:\n",
    "        date1 : str\n",
    "            date in a format YYYY:MM:DD\n",
    "        date 2 : str\n",
    "            date in a format YYYY:MM:DD\n",
    "\n",
    "        Checks if a date1 comes after date2\n",
    "    \"\"\"\n",
    "    if(date.fromisoformat(date1) - date.fromisoformat(date2)).days > 0:\n",
    "        return True\n",
    "    else:\n",
    "        return False"
   ]
  },
  {
   "cell_type": "code",
   "execution_count": 42,
   "metadata": {},
   "outputs": [],
   "source": [
    "df['first_visit_date']=df['first_visit_date'].fillna('2008-01-08')"
   ]
  },
  {
   "cell_type": "code",
   "execution_count": 54,
   "metadata": {},
   "outputs": [
    {
     "data": {
      "text/plain": [
       "0         2021-03-31\n",
       "1         2003-05-28\n",
       "2         2021-03-31\n",
       "3         2021-03-31\n",
       "4         2016-09-19\n",
       "             ...    \n",
       "502485    2021-03-31\n",
       "502486    2021-03-31\n",
       "502487    2021-03-31\n",
       "502488    2003-01-22\n",
       "502489    2018-02-01\n",
       "Name: hypertension, Length: 502490, dtype: object"
      ]
     },
     "execution_count": 54,
     "metadata": {},
     "output_type": "execute_result"
    }
   ],
   "source": [
    "df['hypertension']"
   ]
  },
  {
   "cell_type": "code",
   "execution_count": 55,
   "metadata": {},
   "outputs": [],
   "source": [
    "new_hyper=[]\n",
    "new_MI=[]\n",
    "for i in range(len(df)):\n",
    "    try:\n",
    "        new_hyper.append(comes_after(df['first_visit_date'][i],df['hypertension'][i])) \n",
    "    except:\n",
    "        new_hyper.append(0)\n",
    "    try: \n",
    "        new_MI.append(comes_after(df['first_visit_date'][i],df['MI'][i])) \n",
    "    except:\n",
    "        new_MI.append(0)"
   ]
  },
  {
   "cell_type": "code",
   "execution_count": 59,
   "metadata": {},
   "outputs": [],
   "source": [
    "df['hypertension']= np.array(new_hyper)"
   ]
  },
  {
   "cell_type": "code",
   "execution_count": 60,
   "metadata": {},
   "outputs": [],
   "source": [
    "df['MI']= np.array(new_MI)"
   ]
  },
  {
   "cell_type": "code",
   "execution_count": 61,
   "metadata": {},
   "outputs": [],
   "source": [
    "df.to_csv(\"I:/UKB_DATA/table1/all_UKB.csv\", index=False)"
   ]
  },
  {
   "cell_type": "markdown",
   "metadata": {},
   "source": [
    "# Now read ukb50105"
   ]
  },
  {
   "cell_type": "code",
   "execution_count": 62,
   "metadata": {},
   "outputs": [],
   "source": [
    "df4 = pd.read_csv(\"I:/UKB_DATA/main_df/ukb47615.csv\",  usecols=['eid', '102-0.0'])"
   ]
  },
  {
   "cell_type": "code",
   "execution_count": 63,
   "metadata": {},
   "outputs": [],
   "source": [
    "df4 = df4.rename(columns={'102-0.0':'pulse_rate'})"
   ]
  },
  {
   "cell_type": "code",
   "execution_count": 64,
   "metadata": {},
   "outputs": [],
   "source": [
    "df.merge(df4, on='eid', how='left').to_csv(\"I:/UKB_DATA/table1/all_UKB.csv\", index=False)"
   ]
  },
  {
   "cell_type": "markdown",
   "metadata": {},
   "source": [
    "# Check if underwent MRI or no by listing NIFTI files"
   ]
  },
  {
   "cell_type": "code",
   "execution_count": 82,
   "metadata": {},
   "outputs": [
    {
     "name": "stderr",
     "output_type": "stream",
     "text": [
      "C:\\ProgramData\\Anaconda3\\lib\\site-packages\\IPython\\core\\interactiveshell.py:3071: DtypeWarning: Columns (14) have mixed types.Specify dtype option on import or set low_memory=False.\n",
      "  has_raised = await self.run_ast_nodes(code_ast.body, cell_name,\n"
     ]
    }
   ],
   "source": [
    "df = pd.read_csv(\"I:/UKB_DATA/table1/all_UKB.csv\")"
   ]
  },
  {
   "cell_type": "code",
   "execution_count": 83,
   "metadata": {},
   "outputs": [
    {
     "name": "stdout",
     "output_type": "stream",
     "text": [
      "csv\n"
     ]
    }
   ],
   "source": [
    "import os\n",
    "eid_taken_mri  = [] \n",
    "for eid in os.listdir(\"E:/UKBB_NIFTI\"):\n",
    "    try:\n",
    "        eid_taken_mri.append(int(eid))\n",
    "    except:\n",
    "        print(eid)"
   ]
  },
  {
   "cell_type": "code",
   "execution_count": 84,
   "metadata": {},
   "outputs": [],
   "source": [
    "df['mri_taken'] = df.eid.isin(eid_taken_mri)"
   ]
  },
  {
   "cell_type": "code",
   "execution_count": 85,
   "metadata": {},
   "outputs": [],
   "source": [
    "df.to_csv(\"I:/UKB_DATA/table1/all_UKB.csv\", index=False)"
   ]
  },
  {
   "cell_type": "code",
   "execution_count": null,
   "metadata": {},
   "outputs": [],
   "source": []
  }
 ],
 "metadata": {
  "kernelspec": {
   "display_name": "Python 3",
   "language": "python",
   "name": "python3"
  },
  "language_info": {
   "codemirror_mode": {
    "name": "ipython",
    "version": 3
   },
   "file_extension": ".py",
   "mimetype": "text/x-python",
   "name": "python",
   "nbconvert_exporter": "python",
   "pygments_lexer": "ipython3",
   "version": "3.8.3"
  }
 },
 "nbformat": 4,
 "nbformat_minor": 4
}
