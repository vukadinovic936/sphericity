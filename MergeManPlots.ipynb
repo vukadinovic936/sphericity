{
 "cells": [
  {
   "cell_type": "code",
   "execution_count": 6,
   "metadata": {},
   "outputs": [],
   "source": [
    "import pandas as pd\n",
    "import numpy as np\n",
    "from tqdm import tqdm\n",
    "import matplotlib.pyplot as plt\n",
    "import matplotlib.patches as mpatches\n",
    "import seaborn as sns"
   ]
  },
  {
   "cell_type": "markdown",
   "metadata": {},
   "source": [
    "GET TOP SNPS position and P VALUE"
   ]
  },
  {
   "cell_type": "markdown",
   "metadata": {},
   "source": [
    "## 1e-5"
   ]
  },
  {
   "cell_type": "code",
   "execution_count": 2,
   "metadata": {},
   "outputs": [],
   "source": []
  },
  {
   "cell_type": "markdown",
   "metadata": {},
   "source": [
    "## Get Hits for Noise Increase"
   ]
  },
  {
   "cell_type": "code",
   "execution_count": null,
   "metadata": {},
   "outputs": [
    {
     "name": "stderr",
     "output_type": "stream",
     "text": [
      "\r",
      "  0%|                                                                                                                                                                                                              | 0/11 [00:00<?, ?it/s]"
     ]
    }
   ],
   "source": [
    "p_vals = []\n",
    "pos = []\n",
    "chrs = []\n",
    "rsid = []\n",
    "noise_sd = []\n",
    "for i in tqdm(range(0,11)):\n",
    "    if i == 0:\n",
    "        df = pd.read_csv(f\"I:/UKB_DATA/results/lv_ef_UKB/exported_results.tsv\",sep='\\t')\n",
    "    else:\n",
    "        df = pd.read_csv(f\"I:/UKB_DATA/results/lv_ef_n_sd{i}/exported_results.tsv\",sep='\\t')\n",
    "        \n",
    "    for chr in [1,6,8,10,19]:\n",
    "        temp = df[df.chr==chr]\n",
    "        temp=temp[temp.p_value == temp.p_value.min()]\n",
    "        p_vals.append(temp['p_value'])\n",
    "        pos.append(temp['pos'])\n",
    "        chrs.append(temp['chr'])\n",
    "        rsid.append(temp['rsid'])\n",
    "        if i == 0:\n",
    "            noise_sd.append(0)\n",
    "        else:\n",
    "            noise_sd.append(i)\n",
    "p_vals = np.array(p_vals)\n",
    "pos = np.array(pos)\n",
    "rsid = np.array(rsid)\n",
    "chrs = np.array(chrs)\n",
    "noise_sd = np.array(noise_sd)\n",
    "dic = {\"p_value\":p_vals.squeeze(), \"pos\":pos.squeeze(), \"rsid\":rsid.squeeze(), \"chr\":chrs.squeeze(), \"noise_sd\": noise_sd.squeeze()}\n",
    "hits = pd.DataFrame.from_dict(dic)\n",
    "hits['log_p']= -np.log10(hits['p_value'])\n",
    "hits.to_csv(\"hits.csv\")\n",
    "hits = pd.read_csv(\"hits.csv\")\n",
    "hits"
   ]
  },
  {
   "cell_type": "code",
   "execution_count": 21,
   "metadata": {},
   "outputs": [
    {
     "name": "stderr",
     "output_type": "stream",
     "text": [
      "\n",
      "\n",
      "  0%|                                                                                                                                                    | 0/7 [00:00<?, ?it/s]\u001b[A\u001b[A\n",
      "\n",
      " 14%|████████████████████                                                                                                                        | 1/7 [00:24<02:27, 24.61s/it]\u001b[A\u001b[A\n",
      "\n",
      " 29%|████████████████████████████████████████                                                                                                    | 2/7 [00:52<02:08, 25.66s/it]\u001b[A\u001b[A\n",
      "\n",
      " 43%|████████████████████████████████████████████████████████████                                                                                | 3/7 [01:21<01:46, 26.56s/it]\u001b[A\u001b[A\n",
      "\n",
      " 57%|████████████████████████████████████████████████████████████████████████████████                                                            | 4/7 [01:42<01:15, 25.07s/it]\u001b[A\u001b[A\n",
      "\n",
      " 71%|████████████████████████████████████████████████████████████████████████████████████████████████████                                        | 5/7 [02:04<00:47, 23.96s/it]\u001b[A\u001b[A\n",
      "\n",
      " 86%|████████████████████████████████████████████████████████████████████████████████████████████████████████████████████████                    | 6/7 [02:25<00:23, 23.21s/it]\u001b[A\u001b[A\n",
      "\n",
      "100%|████████████████████████████████████████████████████████████████████████████████████████████████████████████████████████████████████████████| 7/7 [02:46<00:00, 23.85s/it]\u001b[A\u001b[A\n"
     ]
    },
    {
     "data": {
      "text/html": [
       "<div>\n",
       "<style scoped>\n",
       "    .dataframe tbody tr th:only-of-type {\n",
       "        vertical-align: middle;\n",
       "    }\n",
       "\n",
       "    .dataframe tbody tr th {\n",
       "        vertical-align: top;\n",
       "    }\n",
       "\n",
       "    .dataframe thead th {\n",
       "        text-align: right;\n",
       "    }\n",
       "</style>\n",
       "<table border=\"1\" class=\"dataframe\">\n",
       "  <thead>\n",
       "    <tr style=\"text-align: right;\">\n",
       "      <th></th>\n",
       "      <th>Unnamed: 0</th>\n",
       "      <th>p_value</th>\n",
       "      <th>pos</th>\n",
       "      <th>rsid</th>\n",
       "      <th>chr</th>\n",
       "      <th>cohort_decrease</th>\n",
       "      <th>log_p</th>\n",
       "    </tr>\n",
       "  </thead>\n",
       "  <tbody>\n",
       "    <tr>\n",
       "      <th>0</th>\n",
       "      <td>0</td>\n",
       "      <td>1.011600e-12</td>\n",
       "      <td>16170955.0</td>\n",
       "      <td>1:16170955_CA_C</td>\n",
       "      <td>1.0</td>\n",
       "      <td>1.0</td>\n",
       "      <td>11.994991</td>\n",
       "    </tr>\n",
       "    <tr>\n",
       "      <th>1</th>\n",
       "      <td>1</td>\n",
       "      <td>1.150000e-14</td>\n",
       "      <td>36647289.0</td>\n",
       "      <td>rs3176326</td>\n",
       "      <td>6.0</td>\n",
       "      <td>1.0</td>\n",
       "      <td>13.939302</td>\n",
       "    </tr>\n",
       "    <tr>\n",
       "      <th>2</th>\n",
       "      <td>2</td>\n",
       "      <td>1.936700e-11</td>\n",
       "      <td>11782417.0</td>\n",
       "      <td>rs57655799</td>\n",
       "      <td>8.0</td>\n",
       "      <td>1.0</td>\n",
       "      <td>10.712938</td>\n",
       "    </tr>\n",
       "    <tr>\n",
       "      <th>3</th>\n",
       "      <td>3</td>\n",
       "      <td>3.989100e-14</td>\n",
       "      <td>121415685.0</td>\n",
       "      <td>rs72840788</td>\n",
       "      <td>10.0</td>\n",
       "      <td>1.0</td>\n",
       "      <td>13.399125</td>\n",
       "    </tr>\n",
       "    <tr>\n",
       "      <th>4</th>\n",
       "      <td>4</td>\n",
       "      <td>3.349100e-09</td>\n",
       "      <td>16361802.0</td>\n",
       "      <td>19:16361802_TA_T</td>\n",
       "      <td>19.0</td>\n",
       "      <td>1.0</td>\n",
       "      <td>8.475072</td>\n",
       "    </tr>\n",
       "    <tr>\n",
       "      <th>5</th>\n",
       "      <td>5</td>\n",
       "      <td>3.760500e-08</td>\n",
       "      <td>16339313.0</td>\n",
       "      <td>rs10927886</td>\n",
       "      <td>1.0</td>\n",
       "      <td>0.4</td>\n",
       "      <td>7.424754</td>\n",
       "    </tr>\n",
       "    <tr>\n",
       "      <th>6</th>\n",
       "      <td>6</td>\n",
       "      <td>6.596100e-07</td>\n",
       "      <td>48714528.0</td>\n",
       "      <td>rs10633429</td>\n",
       "      <td>6.0</td>\n",
       "      <td>0.4</td>\n",
       "      <td>6.180713</td>\n",
       "    </tr>\n",
       "    <tr>\n",
       "      <th>7</th>\n",
       "      <td>7</td>\n",
       "      <td>1.241400e-06</td>\n",
       "      <td>11789073.0</td>\n",
       "      <td>rs58963440</td>\n",
       "      <td>8.0</td>\n",
       "      <td>0.4</td>\n",
       "      <td>5.906088</td>\n",
       "    </tr>\n",
       "    <tr>\n",
       "      <th>8</th>\n",
       "      <td>8</td>\n",
       "      <td>1.801200e-06</td>\n",
       "      <td>112642952.0</td>\n",
       "      <td>rs11195364</td>\n",
       "      <td>10.0</td>\n",
       "      <td>0.4</td>\n",
       "      <td>5.744438</td>\n",
       "    </tr>\n",
       "    <tr>\n",
       "      <th>9</th>\n",
       "      <td>9</td>\n",
       "      <td>2.278200e-06</td>\n",
       "      <td>58517977.0</td>\n",
       "      <td>rs11669327</td>\n",
       "      <td>19.0</td>\n",
       "      <td>0.4</td>\n",
       "      <td>5.642408</td>\n",
       "    </tr>\n",
       "    <tr>\n",
       "      <th>10</th>\n",
       "      <td>10</td>\n",
       "      <td>4.110100e-07</td>\n",
       "      <td>151123254.0</td>\n",
       "      <td>rs140086081</td>\n",
       "      <td>1.0</td>\n",
       "      <td>0.5</td>\n",
       "      <td>6.386148</td>\n",
       "    </tr>\n",
       "    <tr>\n",
       "      <th>11</th>\n",
       "      <td>11</td>\n",
       "      <td>1.683500e-09</td>\n",
       "      <td>36647289.0</td>\n",
       "      <td>rs3176326</td>\n",
       "      <td>6.0</td>\n",
       "      <td>0.5</td>\n",
       "      <td>8.773787</td>\n",
       "    </tr>\n",
       "    <tr>\n",
       "      <th>12</th>\n",
       "      <td>12</td>\n",
       "      <td>1.016100e-07</td>\n",
       "      <td>11789073.0</td>\n",
       "      <td>rs58963440</td>\n",
       "      <td>8.0</td>\n",
       "      <td>0.5</td>\n",
       "      <td>6.993064</td>\n",
       "    </tr>\n",
       "    <tr>\n",
       "      <th>13</th>\n",
       "      <td>13</td>\n",
       "      <td>6.434700e-09</td>\n",
       "      <td>121415685.0</td>\n",
       "      <td>rs72840788</td>\n",
       "      <td>10.0</td>\n",
       "      <td>0.5</td>\n",
       "      <td>8.191472</td>\n",
       "    </tr>\n",
       "    <tr>\n",
       "      <th>14</th>\n",
       "      <td>14</td>\n",
       "      <td>1.018200e-05</td>\n",
       "      <td>58532641.0</td>\n",
       "      <td>19:58532641_GC_G</td>\n",
       "      <td>19.0</td>\n",
       "      <td>0.5</td>\n",
       "      <td>4.992167</td>\n",
       "    </tr>\n",
       "    <tr>\n",
       "      <th>15</th>\n",
       "      <td>15</td>\n",
       "      <td>9.009100e-09</td>\n",
       "      <td>16292742.0</td>\n",
       "      <td>rs848199</td>\n",
       "      <td>1.0</td>\n",
       "      <td>0.6</td>\n",
       "      <td>8.045319</td>\n",
       "    </tr>\n",
       "    <tr>\n",
       "      <th>16</th>\n",
       "      <td>16</td>\n",
       "      <td>1.691800e-07</td>\n",
       "      <td>36647289.0</td>\n",
       "      <td>rs3176326</td>\n",
       "      <td>6.0</td>\n",
       "      <td>0.6</td>\n",
       "      <td>6.771651</td>\n",
       "    </tr>\n",
       "    <tr>\n",
       "      <th>17</th>\n",
       "      <td>17</td>\n",
       "      <td>1.616300e-06</td>\n",
       "      <td>23596394.0</td>\n",
       "      <td>rs7001541</td>\n",
       "      <td>8.0</td>\n",
       "      <td>0.6</td>\n",
       "      <td>5.791478</td>\n",
       "    </tr>\n",
       "    <tr>\n",
       "      <th>18</th>\n",
       "      <td>18</td>\n",
       "      <td>4.259800e-14</td>\n",
       "      <td>121424815.0</td>\n",
       "      <td>rs375034445</td>\n",
       "      <td>10.0</td>\n",
       "      <td>0.6</td>\n",
       "      <td>13.370611</td>\n",
       "    </tr>\n",
       "    <tr>\n",
       "      <th>19</th>\n",
       "      <td>19</td>\n",
       "      <td>6.352800e-06</td>\n",
       "      <td>16352120.0</td>\n",
       "      <td>rs112756999</td>\n",
       "      <td>19.0</td>\n",
       "      <td>0.6</td>\n",
       "      <td>5.197035</td>\n",
       "    </tr>\n",
       "    <tr>\n",
       "      <th>20</th>\n",
       "      <td>20</td>\n",
       "      <td>5.015300e-11</td>\n",
       "      <td>16170955.0</td>\n",
       "      <td>1:16170955_CA_C</td>\n",
       "      <td>1.0</td>\n",
       "      <td>0.7</td>\n",
       "      <td>10.299703</td>\n",
       "    </tr>\n",
       "    <tr>\n",
       "      <th>21</th>\n",
       "      <td>21</td>\n",
       "      <td>7.715500e-11</td>\n",
       "      <td>36647289.0</td>\n",
       "      <td>rs3176326</td>\n",
       "      <td>6.0</td>\n",
       "      <td>0.7</td>\n",
       "      <td>10.112636</td>\n",
       "    </tr>\n",
       "    <tr>\n",
       "      <th>22</th>\n",
       "      <td>22</td>\n",
       "      <td>1.499000e-08</td>\n",
       "      <td>11788236.0</td>\n",
       "      <td>rs79978591</td>\n",
       "      <td>8.0</td>\n",
       "      <td>0.7</td>\n",
       "      <td>7.824198</td>\n",
       "    </tr>\n",
       "    <tr>\n",
       "      <th>23</th>\n",
       "      <td>23</td>\n",
       "      <td>1.938000e-08</td>\n",
       "      <td>121415685.0</td>\n",
       "      <td>rs72840788</td>\n",
       "      <td>10.0</td>\n",
       "      <td>0.7</td>\n",
       "      <td>7.712646</td>\n",
       "    </tr>\n",
       "    <tr>\n",
       "      <th>24</th>\n",
       "      <td>24</td>\n",
       "      <td>3.145200e-09</td>\n",
       "      <td>16361802.0</td>\n",
       "      <td>19:16361802_TA_T</td>\n",
       "      <td>19.0</td>\n",
       "      <td>0.7</td>\n",
       "      <td>8.502352</td>\n",
       "    </tr>\n",
       "    <tr>\n",
       "      <th>25</th>\n",
       "      <td>25</td>\n",
       "      <td>5.855600e-11</td>\n",
       "      <td>16340217.0</td>\n",
       "      <td>rs113462795</td>\n",
       "      <td>1.0</td>\n",
       "      <td>0.8</td>\n",
       "      <td>10.232429</td>\n",
       "    </tr>\n",
       "    <tr>\n",
       "      <th>26</th>\n",
       "      <td>26</td>\n",
       "      <td>5.695900e-13</td>\n",
       "      <td>36647289.0</td>\n",
       "      <td>rs3176326</td>\n",
       "      <td>6.0</td>\n",
       "      <td>0.8</td>\n",
       "      <td>12.244438</td>\n",
       "    </tr>\n",
       "    <tr>\n",
       "      <th>27</th>\n",
       "      <td>27</td>\n",
       "      <td>4.451900e-11</td>\n",
       "      <td>11782417.0</td>\n",
       "      <td>rs57655799</td>\n",
       "      <td>8.0</td>\n",
       "      <td>0.8</td>\n",
       "      <td>10.351455</td>\n",
       "    </tr>\n",
       "    <tr>\n",
       "      <th>28</th>\n",
       "      <td>28</td>\n",
       "      <td>1.384000e-12</td>\n",
       "      <td>121415685.0</td>\n",
       "      <td>rs72840788</td>\n",
       "      <td>10.0</td>\n",
       "      <td>0.8</td>\n",
       "      <td>11.858864</td>\n",
       "    </tr>\n",
       "    <tr>\n",
       "      <th>29</th>\n",
       "      <td>29</td>\n",
       "      <td>5.693500e-07</td>\n",
       "      <td>52341925.0</td>\n",
       "      <td>rs148272966</td>\n",
       "      <td>19.0</td>\n",
       "      <td>0.8</td>\n",
       "      <td>6.244621</td>\n",
       "    </tr>\n",
       "    <tr>\n",
       "      <th>30</th>\n",
       "      <td>30</td>\n",
       "      <td>1.486800e-11</td>\n",
       "      <td>16339772.0</td>\n",
       "      <td>rs1763604</td>\n",
       "      <td>1.0</td>\n",
       "      <td>0.9</td>\n",
       "      <td>10.827747</td>\n",
       "    </tr>\n",
       "    <tr>\n",
       "      <th>31</th>\n",
       "      <td>31</td>\n",
       "      <td>2.821000e-12</td>\n",
       "      <td>36647289.0</td>\n",
       "      <td>rs3176326</td>\n",
       "      <td>6.0</td>\n",
       "      <td>0.9</td>\n",
       "      <td>11.549597</td>\n",
       "    </tr>\n",
       "    <tr>\n",
       "      <th>32</th>\n",
       "      <td>32</td>\n",
       "      <td>3.547500e-11</td>\n",
       "      <td>11795335.0</td>\n",
       "      <td>rs6985792</td>\n",
       "      <td>8.0</td>\n",
       "      <td>0.9</td>\n",
       "      <td>10.450078</td>\n",
       "    </tr>\n",
       "    <tr>\n",
       "      <th>33</th>\n",
       "      <td>33</td>\n",
       "      <td>1.688000e-14</td>\n",
       "      <td>121415685.0</td>\n",
       "      <td>rs72840788</td>\n",
       "      <td>10.0</td>\n",
       "      <td>0.9</td>\n",
       "      <td>13.772628</td>\n",
       "    </tr>\n",
       "    <tr>\n",
       "      <th>34</th>\n",
       "      <td>34</td>\n",
       "      <td>6.962200e-08</td>\n",
       "      <td>16361802.0</td>\n",
       "      <td>19:16361802_TA_T</td>\n",
       "      <td>19.0</td>\n",
       "      <td>0.9</td>\n",
       "      <td>7.157254</td>\n",
       "    </tr>\n",
       "  </tbody>\n",
       "</table>\n",
       "</div>"
      ],
      "text/plain": [
       "    Unnamed: 0       p_value          pos              rsid   chr  \\\n",
       "0            0  1.011600e-12   16170955.0   1:16170955_CA_C   1.0   \n",
       "1            1  1.150000e-14   36647289.0         rs3176326   6.0   \n",
       "2            2  1.936700e-11   11782417.0        rs57655799   8.0   \n",
       "3            3  3.989100e-14  121415685.0        rs72840788  10.0   \n",
       "4            4  3.349100e-09   16361802.0  19:16361802_TA_T  19.0   \n",
       "5            5  3.760500e-08   16339313.0        rs10927886   1.0   \n",
       "6            6  6.596100e-07   48714528.0        rs10633429   6.0   \n",
       "7            7  1.241400e-06   11789073.0        rs58963440   8.0   \n",
       "8            8  1.801200e-06  112642952.0        rs11195364  10.0   \n",
       "9            9  2.278200e-06   58517977.0        rs11669327  19.0   \n",
       "10          10  4.110100e-07  151123254.0       rs140086081   1.0   \n",
       "11          11  1.683500e-09   36647289.0         rs3176326   6.0   \n",
       "12          12  1.016100e-07   11789073.0        rs58963440   8.0   \n",
       "13          13  6.434700e-09  121415685.0        rs72840788  10.0   \n",
       "14          14  1.018200e-05   58532641.0  19:58532641_GC_G  19.0   \n",
       "15          15  9.009100e-09   16292742.0          rs848199   1.0   \n",
       "16          16  1.691800e-07   36647289.0         rs3176326   6.0   \n",
       "17          17  1.616300e-06   23596394.0         rs7001541   8.0   \n",
       "18          18  4.259800e-14  121424815.0       rs375034445  10.0   \n",
       "19          19  6.352800e-06   16352120.0       rs112756999  19.0   \n",
       "20          20  5.015300e-11   16170955.0   1:16170955_CA_C   1.0   \n",
       "21          21  7.715500e-11   36647289.0         rs3176326   6.0   \n",
       "22          22  1.499000e-08   11788236.0        rs79978591   8.0   \n",
       "23          23  1.938000e-08  121415685.0        rs72840788  10.0   \n",
       "24          24  3.145200e-09   16361802.0  19:16361802_TA_T  19.0   \n",
       "25          25  5.855600e-11   16340217.0       rs113462795   1.0   \n",
       "26          26  5.695900e-13   36647289.0         rs3176326   6.0   \n",
       "27          27  4.451900e-11   11782417.0        rs57655799   8.0   \n",
       "28          28  1.384000e-12  121415685.0        rs72840788  10.0   \n",
       "29          29  5.693500e-07   52341925.0       rs148272966  19.0   \n",
       "30          30  1.486800e-11   16339772.0         rs1763604   1.0   \n",
       "31          31  2.821000e-12   36647289.0         rs3176326   6.0   \n",
       "32          32  3.547500e-11   11795335.0         rs6985792   8.0   \n",
       "33          33  1.688000e-14  121415685.0        rs72840788  10.0   \n",
       "34          34  6.962200e-08   16361802.0  19:16361802_TA_T  19.0   \n",
       "\n",
       "    cohort_decrease      log_p  \n",
       "0               1.0  11.994991  \n",
       "1               1.0  13.939302  \n",
       "2               1.0  10.712938  \n",
       "3               1.0  13.399125  \n",
       "4               1.0   8.475072  \n",
       "5               0.4   7.424754  \n",
       "6               0.4   6.180713  \n",
       "7               0.4   5.906088  \n",
       "8               0.4   5.744438  \n",
       "9               0.4   5.642408  \n",
       "10              0.5   6.386148  \n",
       "11              0.5   8.773787  \n",
       "12              0.5   6.993064  \n",
       "13              0.5   8.191472  \n",
       "14              0.5   4.992167  \n",
       "15              0.6   8.045319  \n",
       "16              0.6   6.771651  \n",
       "17              0.6   5.791478  \n",
       "18              0.6  13.370611  \n",
       "19              0.6   5.197035  \n",
       "20              0.7  10.299703  \n",
       "21              0.7  10.112636  \n",
       "22              0.7   7.824198  \n",
       "23              0.7   7.712646  \n",
       "24              0.7   8.502352  \n",
       "25              0.8  10.232429  \n",
       "26              0.8  12.244438  \n",
       "27              0.8  10.351455  \n",
       "28              0.8  11.858864  \n",
       "29              0.8   6.244621  \n",
       "30              0.9  10.827747  \n",
       "31              0.9  11.549597  \n",
       "32              0.9  10.450078  \n",
       "33              0.9  13.772628  \n",
       "34              0.9   7.157254  "
      ]
     },
     "execution_count": 21,
     "metadata": {},
     "output_type": "execute_result"
    }
   ],
   "source": [
    "p_vals = []\n",
    "pos = []\n",
    "chrs = []\n",
    "rsid = []\n",
    "cohort_decrease = []\n",
    "for i in tqdm(range(3,10)):\n",
    "    if i == 3:\n",
    "        df = pd.read_csv(f\"I:/UKB_DATA/results/lv_ef_UKB/exported_results.tsv\",sep='\\t')\n",
    "    else:\n",
    "        df = pd.read_csv(f\"I:/UKB_DATA/results/lv_ef_0.{i}cohort/exported_results.tsv\",sep='\\t')\n",
    "        \n",
    "    for chr in [1,6,8,10,19]:\n",
    "        temp = df[df.chr==chr]\n",
    "        temp=temp[temp.p_value == temp.p_value.min()]\n",
    "        p_vals.append(temp['p_value'])\n",
    "        pos.append(temp['pos'])\n",
    "        chrs.append(temp['chr'])\n",
    "        rsid.append(temp['rsid'])\n",
    "        if i == 3:\n",
    "            cohort_decrease.append(1)\n",
    "        else:\n",
    "            cohort_decrease.append(i/10)\n",
    "p_vals = np.array(p_vals)\n",
    "pos = np.array(pos)\n",
    "rsid = np.array(rsid)\n",
    "chrs = np.array(chrs)\n",
    "cohort_decrease = np.array(cohort_decrease)\n",
    "dic = {\"p_value\":p_vals.squeeze(), \"pos\":pos.squeeze(), \"rsid\":rsid.squeeze(), \"chr\":chrs.squeeze(), \"cohort_decrease\": cohort_decrease.squeeze()}\n",
    "hits = pd.DataFrame.from_dict(dic)\n",
    "hits['log_p']= -np.log10(hits['p_value'])\n",
    "hits.to_csv(\"hits_cohort.csv\")\n",
    "hits = pd.read_csv(\"hits_cohort.csv\")\n",
    "hits"
   ]
  },
  {
   "cell_type": "markdown",
   "metadata": {},
   "source": [
    "## Now get hits for cohort decrease"
   ]
  },
  {
   "cell_type": "code",
   "execution_count": 22,
   "metadata": {},
   "outputs": [],
   "source": [
    "markers = { 0:'o', 1:'X', 2:'P', 3:'D', 4:'^', 5:'v', 6:'s', 7:'p', 8:'*', 9:'h', 10:'H' }"
   ]
  },
  {
   "cell_type": "code",
   "execution_count": 23,
   "metadata": {},
   "outputs": [
    {
     "data": {
      "text/plain": [
       "([(0.20973515, 0.09747934, 0.24238489),\n",
       "  (0.43860848, 0.12177004, 0.34119475),\n",
       "  (0.67824099, 0.09192342, 0.3504148),\n",
       "  (0.8833417, 0.19830556, 0.26014181),\n",
       "  (0.95381595, 0.46373781, 0.31769923),\n",
       "  (0.96516917, 0.70776351, 0.5606593)],)"
      ]
     },
     "execution_count": 23,
     "metadata": {},
     "output_type": "execute_result"
    }
   ],
   "source": [
    "sns.color_palette(\"rocket\",6),"
   ]
  },
  {
   "cell_type": "code",
   "execution_count": 24,
   "metadata": {},
   "outputs": [],
   "source": [
    "hits['cohort_decrease']=round(1- hits['cohort_decrease'],3)"
   ]
  },
  {
   "cell_type": "code",
   "execution_count": 26,
   "metadata": {},
   "outputs": [
    {
     "data": {
      "image/png": "[encoded data removed]",
      "text/plain": [
       "<Figure size 1008x576 with 1 Axes>"
      ]
     },
     "metadata": {},
     "output_type": "display_data"
    }
   ],
   "source": [
    "sns.set(rc={'figure.figsize':(14,8)})\n",
    "colors = [\"tab:blue\", \"tab:orange\", \"tab:green\", \"tab:red\", \"tab:purple\",\n",
    "         \"tab:brown\", \"tab:pink\", \"tab:gray\", \"tab:olive\", \"tab:cyan\", \"k\"]\n",
    "sns.set_style(\"white\")\n",
    "g = sns.scatterplot(data=hits, \n",
    "                x=\"chr\",\n",
    "                y=\"log_p\",\n",
    "                hue=\"cohort_decrease\",\n",
    "                palette=sns.color_palette(\"rocket\",7),\n",
    "                s=100,\n",
    "                alpha=0.85)\n",
    "\n",
    "g.axhline(-np.log10(5e-8), ls='-', c='r',alpha=1.0, label=\"Significance Threshold\")\n",
    "g.legend(loc='best',ncol=2)\n",
    "g.set(ylim=(3, 15))\n",
    "g.set(xlim=(0, 22))\n",
    "g.set_xticks(range(1,23))\n",
    "g.set_yticks(range(3,15,2))\n",
    "g.set(title=\"Effect of Gaussian Noise on GWAS results\", xlabel=\"Chromosome\", ylabel=\"-log10(p value)\")\n",
    "plt.savefig('D:/RScripts/scatterCohort.png',dpi=1200)"
   ]
  },
  {
   "cell_type": "code",
   "execution_count": 15,
   "metadata": {},
   "outputs": [
    {
     "data": {
      "image/png": "[encoded data removed]",
      "text/plain": [
       "<Figure size 1008x576 with 1 Axes>"
      ]
     },
     "metadata": {},
     "output_type": "display_data"
    }
   ],
   "source": [
    "sns.set(rc={'figure.figsize':(14,8)})\n",
    "colors = [\"tab:blue\", \"tab:orange\", \"tab:green\", \"tab:red\", \"tab:purple\",\n",
    "         \"tab:brown\", \"tab:pink\", \"tab:gray\", \"tab:olive\", \"tab:cyan\", \"k\"]\n",
    "sns.set_style(\"white\")\n",
    "g = sns.scatterplot(data=hits, \n",
    "                x=\"chr\",\n",
    "                y=\"log_p\",\n",
    "                hue=\"noise_sd\",\n",
    "                palette=sns.color_palette(\"rocket\",11),\n",
    "                s=100,\n",
    "                alpha=0.85)\n",
    "\n",
    "g.axhline(-np.log10(5e-8), ls='-', c='r',alpha=1.0, label=\"Significance Threshold\")\n",
    "g.legend(loc='best',ncol=2)\n",
    "g.set(ylim=(3, 15))\n",
    "g.set(xlim=(0, 22))\n",
    "g.set_xticks(range(1,23))\n",
    "g.set_yticks(range(3,15,2))\n",
    "g.set(title=\"Effect of Gaussian Noise on GWAS results\", xlabel=\"Chromosome\", ylabel=\"-log10(p value)\")\n",
    "plt.savefig('save_as_a_png.png',dpi=1200)"
   ]
  },
  {
   "cell_type": "code",
   "execution_count": 71,
   "metadata": {},
   "outputs": [],
   "source": []
  },
  {
   "cell_type": "code",
   "execution_count": 60,
   "metadata": {},
   "outputs": [],
   "source": []
  },
  {
   "cell_type": "markdown",
   "metadata": {},
   "source": [
    "## WHEN ALL DONE"
   ]
  },
  {
   "cell_type": "code",
   "execution_count": 3,
   "metadata": {},
   "outputs": [],
   "source": [
    "GWASes = np.load('GWASES.npy') "
   ]
  },
  {
   "cell_type": "code",
   "execution_count": 134,
   "metadata": {},
   "outputs": [
    {
     "data": {
      "image/png": "[encoded data removed]",
      "text/plain": [
       "<Figure size 864x432 with 1 Axes>"
      ]
     },
     "metadata": {},
     "output_type": "display_data"
    }
   ],
   "source": [
    "fig, ax = plt.subplots(figsize=(12, 6))\n",
    "chr = [1,6,8,10,19]\n",
    "colors = [\"tab:blue\", \"tab:orange\", \"tab:green\", \"tab:red\", \"tab:purple\",\n",
    "         \"tab:brown\", \"tab:pink\", \"tab:gray\", \"tab:olive\", \"tab:cyan\", \"k\"]\n",
    "for i in range(0,11):\n",
    "    ax.scatter( [chr], [-np.log10(GWASes[i,:,0])], color=colors[i], marker='o',alpha=0.7)\n",
    "ax.hlines(y = -np.log10(5e-8), xmin=0, xmax=23, linewidth=1, color='r')\n",
    "#ax.hlines(y = -np.log10(1e-5), xmin=0, xmax=23, linewidth=1, color='b')\n",
    "\n",
    "sc = [mpatches.Patch(color=colors[0], label=\"Baseline\")]\n",
    "for i in range(1,len(colors)):\n",
    "    sc.append(mpatches.Patch(color=colors[i], label=f\"{i} SD\"))\n",
    "    \n",
    "sc.append(mpatches.Patch(color='r', label=\"5*10-8 Threshold\"))\n",
    "\n",
    "\n",
    "ax.legend(handles=sc,ncol=2)\n",
    "plt.xlim([0, 2])\n",
    "plt.ylim([3,15])\n",
    "plt.xlabel(\"Chromosome\")\n",
    "plt.ylabel(\"-log10(p value)\")\n",
    "plt.xticks(np.arange(0, 23, 1))\n",
    "plt.title(\"Effect of Gaussian Noise on GWAS results\")\n",
    "#plt.show()\n",
    "plt.savefig('fig.png',dpi=1200)"
   ]
  },
  {
   "cell_type": "code",
   "execution_count": 222,
   "metadata": {},
   "outputs": [
    {
     "data": {
      "text/plain": [
       "249239303.0"
      ]
     },
     "execution_count": 222,
     "metadata": {},
     "output_type": "execute_result"
    }
   ],
   "source": [
    "df['pos'].max()"
   ]
  },
  {
   "cell_type": "code",
   "execution_count": 135,
   "metadata": {},
   "outputs": [
    {
     "data": {
      "text/plain": [
       "(11, 5, 2)"
      ]
     },
     "execution_count": 135,
     "metadata": {},
     "output_type": "execute_result"
    }
   ],
   "source": [
    "GWASes.shape"
   ]
  },
  {
   "cell_type": "code",
   "execution_count": 132,
   "metadata": {},
   "outputs": [
    {
     "data": {
      "text/plain": [
       "302.0"
      ]
     },
     "execution_count": 132,
     "metadata": {},
     "output_type": "execute_result"
    }
   ],
   "source": [
    "df['pos'].min()"
   ]
  },
  {
   "cell_type": "code",
   "execution_count": 120,
   "metadata": {},
   "outputs": [
    {
     "data": {
      "text/plain": [
       "13.939302159646388"
      ]
     },
     "execution_count": 120,
     "metadata": {},
     "output_type": "execute_result"
    }
   ],
   "source": [
    "-np.log10(1.15e-14)"
   ]
  },
  {
   "cell_type": "code",
   "execution_count": 145,
   "metadata": {},
   "outputs": [
    {
     "data": {
      "text/plain": [
       "0             13110.0\n",
       "1             14933.0\n",
       "2             15777.0\n",
       "3             16949.0\n",
       "4             18849.0\n",
       "              ...    \n",
       "9636687    48115770.0\n",
       "9636688    48116032.0\n",
       "9636689    48117699.0\n",
       "9636690    48119510.0\n",
       "9636691    48119634.0\n",
       "Name: pos, Length: 9636692, dtype: float64"
      ]
     },
     "execution_count": 145,
     "metadata": {},
     "output_type": "execute_result"
    }
   ],
   "source": [
    "df['pos']"
   ]
  },
  {
   "cell_type": "code",
   "execution_count": 231,
   "metadata": {},
   "outputs": [
    {
     "data": {
      "text/plain": [
       "(11, 5, 2)"
      ]
     },
     "execution_count": 231,
     "metadata": {},
     "output_type": "execute_result"
    }
   ],
   "source": [
    "GWASes.shape"
   ]
  },
  {
   "cell_type": "code",
   "execution_count": 236,
   "metadata": {},
   "outputs": [],
   "source": [
    "p_val= GWASes[0,:,0]"
   ]
  },
  {
   "cell_type": "code",
   "execution_count": 237,
   "metadata": {},
   "outputs": [],
   "source": [
    "pos= GWASes[0,:,1]"
   ]
  },
  {
   "cell_type": "code",
   "execution_count": 238,
   "metadata": {},
   "outputs": [
    {
     "data": {
      "text/plain": [
       "array([1.61709550e+07, 3.66472890e+07, 1.17824170e+07, 1.21415685e+08,\n",
       "       1.63618020e+07])"
      ]
     },
     "execution_count": 238,
     "metadata": {},
     "output_type": "execute_result"
    }
   ],
   "source": [
    "pos"
   ]
  },
  {
   "cell_type": "code",
   "execution_count": 239,
   "metadata": {},
   "outputs": [
    {
     "data": {
      "text/plain": [
       "array([1.0116e-12, 1.1500e-14, 1.9367e-11, 3.9891e-14, 3.3491e-09])"
      ]
     },
     "execution_count": 239,
     "metadata": {},
     "output_type": "execute_result"
    }
   ],
   "source": [
    "p_val"
   ]
  },
  {
   "cell_type": "code",
   "execution_count": 243,
   "metadata": {},
   "outputs": [],
   "source": [
    "dic = {\"pos\":pos, \"p_val\":p_val}"
   ]
  },
  {
   "cell_type": "code",
   "execution_count": 254,
   "metadata": {},
   "outputs": [],
   "source": [
    "pd.DataFrame.from_dict(dic).to_csv(\"test.csv\")"
   ]
  },
  {
   "cell_type": "code",
   "execution_count": 249,
   "metadata": {},
   "outputs": [
    {
     "data": {
      "text/plain": [
       "0             13110.0\n",
       "1             14933.0\n",
       "2             15777.0\n",
       "3             16949.0\n",
       "4             18849.0\n",
       "              ...    \n",
       "9636686    48114644.0\n",
       "9636687    48115770.0\n",
       "9636688    48116032.0\n",
       "9636689    48117699.0\n",
       "9636690    48119510.0\n",
       "Name: pos, Length: 9636691, dtype: float64"
      ]
     },
     "execution_count": 249,
     "metadata": {},
     "output_type": "execute_result"
    }
   ],
   "source": [
    "df['pos'][:-1]"
   ]
  },
  {
   "cell_type": "code",
   "execution_count": null,
   "metadata": {},
   "outputs": [],
   "source": []
  }
 ],
 "metadata": {
  "kernelspec": {
   "display_name": "Python 3",
   "language": "python",
   "name": "python3"
  },
  "language_info": {
   "codemirror_mode": {
    "name": "ipython",
    "version": 3
   },
   "file_extension": ".py",
   "mimetype": "text/x-python",
   "name": "python",
   "nbconvert_exporter": "python",
   "pygments_lexer": "ipython3",
   "version": "3.8.3"
  }
 },
 "nbformat": 4,
 "nbformat_minor": 4
}
