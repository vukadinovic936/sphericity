{
 "cells": [
  {
   "cell_type": "code",
   "execution_count": 1,
   "id": "3f969c07",
   "metadata": {},
   "outputs": [],
   "source": [
    "import pandas as pd\n",
    "import numpy as np"
   ]
  },
  {
   "cell_type": "code",
   "execution_count": 2,
   "id": "94c2c144",
   "metadata": {},
   "outputs": [],
   "source": [
    "EXPORTED_RESULTS = \"I:/UKB_DATA/results/raw_width/exported_results.tsv\""
   ]
  },
  {
   "cell_type": "markdown",
   "id": "ef49c22f",
   "metadata": {},
   "source": [
    "Because MFI files UKB gave contain some missing pos and chr values, get that from locus info"
   ]
  },
  {
   "cell_type": "code",
   "execution_count": 3,
   "id": "16e26fea",
   "metadata": {},
   "outputs": [],
   "source": [
    "df = pd.read_csv(EXPORTED_RESULTS, sep='\\t')\n",
    "CHR = np.array([df['locus'][i].split(\":\")[0] for i in range(len(df))]).astype('uint8')\n",
    "POS = np.array([df['locus'][i].split(\":\")[1] for i in range(len(df))]).astype('uint')\n",
    "df['chr'] = CHR\n",
    "df['pos'] = POS"
   ]
  },
  {
   "cell_type": "code",
   "execution_count": 4,
   "id": "5a3f5aab",
   "metadata": {},
   "outputs": [],
   "source": [
    "df.drop_duplicates(subset=[\"rsid\"], keep='first',inplace=True)"
   ]
  },
  {
   "cell_type": "code",
   "execution_count": 5,
   "id": "af3d9e66",
   "metadata": {},
   "outputs": [],
   "source": [
    "df = df[['chr','pos','ref', 'alt', 'p_value']]"
   ]
  },
  {
   "cell_type": "code",
   "execution_count": 6,
   "id": "68f3209c",
   "metadata": {},
   "outputs": [
    {
     "data": {
      "text/html": [
       "<div>\n",
       "<style scoped>\n",
       "    .dataframe tbody tr th:only-of-type {\n",
       "        vertical-align: middle;\n",
       "    }\n",
       "\n",
       "    .dataframe tbody tr th {\n",
       "        vertical-align: top;\n",
       "    }\n",
       "\n",
       "    .dataframe thead th {\n",
       "        text-align: right;\n",
       "    }\n",
       "</style>\n",
       "<table border=\"1\" class=\"dataframe\">\n",
       "  <thead>\n",
       "    <tr style=\"text-align: right;\">\n",
       "      <th></th>\n",
       "      <th>chr</th>\n",
       "      <th>pos</th>\n",
       "      <th>ref</th>\n",
       "      <th>alt</th>\n",
       "      <th>p_value</th>\n",
       "    </tr>\n",
       "  </thead>\n",
       "  <tbody>\n",
       "    <tr>\n",
       "      <th>0</th>\n",
       "      <td>1</td>\n",
       "      <td>11008</td>\n",
       "      <td>C</td>\n",
       "      <td>G</td>\n",
       "      <td>0.988200</td>\n",
       "    </tr>\n",
       "    <tr>\n",
       "      <th>1</th>\n",
       "      <td>1</td>\n",
       "      <td>11012</td>\n",
       "      <td>C</td>\n",
       "      <td>G</td>\n",
       "      <td>0.988200</td>\n",
       "    </tr>\n",
       "    <tr>\n",
       "      <th>2</th>\n",
       "      <td>1</td>\n",
       "      <td>13110</td>\n",
       "      <td>G</td>\n",
       "      <td>A</td>\n",
       "      <td>0.077835</td>\n",
       "    </tr>\n",
       "    <tr>\n",
       "      <th>3</th>\n",
       "      <td>1</td>\n",
       "      <td>13116</td>\n",
       "      <td>T</td>\n",
       "      <td>G</td>\n",
       "      <td>0.751910</td>\n",
       "    </tr>\n",
       "    <tr>\n",
       "      <th>4</th>\n",
       "      <td>1</td>\n",
       "      <td>13118</td>\n",
       "      <td>A</td>\n",
       "      <td>G</td>\n",
       "      <td>0.751910</td>\n",
       "    </tr>\n",
       "    <tr>\n",
       "      <th>...</th>\n",
       "      <td>...</td>\n",
       "      <td>...</td>\n",
       "      <td>...</td>\n",
       "      <td>...</td>\n",
       "      <td>...</td>\n",
       "    </tr>\n",
       "    <tr>\n",
       "      <th>9877916</th>\n",
       "      <td>22</td>\n",
       "      <td>51237063</td>\n",
       "      <td>T</td>\n",
       "      <td>C</td>\n",
       "      <td>0.609490</td>\n",
       "    </tr>\n",
       "    <tr>\n",
       "      <th>9877917</th>\n",
       "      <td>22</td>\n",
       "      <td>51237364</td>\n",
       "      <td>A</td>\n",
       "      <td>G</td>\n",
       "      <td>0.553980</td>\n",
       "    </tr>\n",
       "    <tr>\n",
       "      <th>9877918</th>\n",
       "      <td>22</td>\n",
       "      <td>51237712</td>\n",
       "      <td>G</td>\n",
       "      <td>A</td>\n",
       "      <td>0.929590</td>\n",
       "    </tr>\n",
       "    <tr>\n",
       "      <th>9877919</th>\n",
       "      <td>22</td>\n",
       "      <td>51240820</td>\n",
       "      <td>C</td>\n",
       "      <td>T</td>\n",
       "      <td>0.976500</td>\n",
       "    </tr>\n",
       "    <tr>\n",
       "      <th>9877920</th>\n",
       "      <td>22</td>\n",
       "      <td>51244237</td>\n",
       "      <td>C</td>\n",
       "      <td>T</td>\n",
       "      <td>0.708480</td>\n",
       "    </tr>\n",
       "  </tbody>\n",
       "</table>\n",
       "<p>9263464 rows × 5 columns</p>\n",
       "</div>"
      ],
      "text/plain": [
       "         chr       pos ref alt   p_value\n",
       "0          1     11008   C   G  0.988200\n",
       "1          1     11012   C   G  0.988200\n",
       "2          1     13110   G   A  0.077835\n",
       "3          1     13116   T   G  0.751910\n",
       "4          1     13118   A   G  0.751910\n",
       "...      ...       ...  ..  ..       ...\n",
       "9877916   22  51237063   T   C  0.609490\n",
       "9877917   22  51237364   A   G  0.553980\n",
       "9877918   22  51237712   G   A  0.929590\n",
       "9877919   22  51240820   C   T  0.976500\n",
       "9877920   22  51244237   C   T  0.708480\n",
       "\n",
       "[9263464 rows x 5 columns]"
      ]
     },
     "execution_count": 6,
     "metadata": {},
     "output_type": "execute_result"
    }
   ],
   "source": [
    "df"
   ]
  },
  {
   "cell_type": "code",
   "execution_count": 7,
   "id": "3b695fa0",
   "metadata": {},
   "outputs": [],
   "source": [
    "df.to_csv(\"I:/UKB_DATA/results/raw_width/locus_zoom.txt\", sep='\\t', index=0)"
   ]
  },
  {
   "cell_type": "code",
   "execution_count": null,
   "id": "25b959ea",
   "metadata": {},
   "outputs": [],
   "source": []
  }
 ],
 "metadata": {
  "kernelspec": {
   "display_name": "Python 3 (ipykernel)",
   "language": "python",
   "name": "python3"
  },
  "language_info": {
   "codemirror_mode": {
    "name": "ipython",
    "version": 3
   },
   "file_extension": ".py",
   "mimetype": "text/x-python",
   "name": "python",
   "nbconvert_exporter": "python",
   "pygments_lexer": "ipython3",
   "version": "3.9.15"
  }
 },
 "nbformat": 4,
 "nbformat_minor": 5
}
