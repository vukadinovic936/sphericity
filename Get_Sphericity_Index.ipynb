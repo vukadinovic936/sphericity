{
 "cells": [
  {
   "cell_type": "code",
   "execution_count": 10,
   "metadata": {},
   "outputs": [],
   "source": [
    "#### WE WILL EXTRACT ALL POSSIBLE FROM LONG AXIS####\n",
    "import numpy as np\n",
    "import os\n",
    "\n",
    "from utils import *\n",
    "from tqdm import tqdm\n",
    "import cv2\n",
    "from tqdm import tqdm"
   ]
  },
  {
   "cell_type": "code",
   "execution_count": 11,
   "metadata": {
    "scrolled": true
   },
   "outputs": [
    {
     "name": "stderr",
     "output_type": "stream",
     "text": [
      "  9%|██████████████████▏                                                                                                                                                                              | 4310/45694 [00:20<03:16, 211.07it/s]D:\\UKB\\utils.py:468: RuntimeWarning: invalid value encountered in true_divide\n",
      "  img = img/np.max(img)\n",
      " 10%|██████████████████▍                                                                                                                                                                              | 4355/45694 [00:20<03:18, 208.33it/s]"
     ]
    },
    {
     "name": "stdout",
     "output_type": "stream",
     "text": [
      "1469109\n"
     ]
    },
    {
     "name": "stderr",
     "output_type": "stream",
     "text": [
      " 11%|████████████████████▎                                                                                                                                                                            | 4804/45694 [00:22<03:15, 208.92it/s]"
     ]
    },
    {
     "name": "stdout",
     "output_type": "stream",
     "text": [
      "1513395\n"
     ]
    },
    {
     "name": "stderr",
     "output_type": "stream",
     "text": [
      " 12%|██████████████████████▉                                                                                                                                                                          | 5430/45694 [00:25<03:14, 206.60it/s]"
     ]
    },
    {
     "name": "stdout",
     "output_type": "stream",
     "text": [
      "Width 0.0\n",
      " Height 0.0 \n",
      " Frame_Id 0 \n",
      " VideoIdH:/UKBB_NIFTI/UKBB_NIFTI/1577077/la_4ch_ED.nii.gz\n",
      "1577077\n"
     ]
    },
    {
     "name": "stderr",
     "output_type": "stream",
     "text": [
      " 13%|████████████████████████▊                                                                                                                                                                        | 5877/45694 [00:28<03:19, 199.47it/s]"
     ]
    },
    {
     "name": "stdout",
     "output_type": "stream",
     "text": [
      "1627032\n"
     ]
    },
    {
     "name": "stderr",
     "output_type": "stream",
     "text": [
      " 15%|█████████████████████████████                                                                                                                                                                    | 6867/45694 [00:32<03:02, 212.72it/s]"
     ]
    },
    {
     "name": "stdout",
     "output_type": "stream",
     "text": [
      "1737951\n"
     ]
    },
    {
     "name": "stderr",
     "output_type": "stream",
     "text": [
      " 16%|███████████████████████████████▋                                                                                                                                                                 | 7510/45694 [00:35<02:58, 213.46it/s]"
     ]
    },
    {
     "name": "stdout",
     "output_type": "stream",
     "text": [
      "Width 0.4472135603427887\n",
      " Height 2.2360680103302 \n",
      " Frame_Id 0 \n",
      " VideoIdH:/UKBB_NIFTI/UKBB_NIFTI/1811449/la_4ch_ED.nii.gz\n",
      "1811449\n"
     ]
    },
    {
     "name": "stderr",
     "output_type": "stream",
     "text": [
      " 22%|██████████████████████████████████████████▌                                                                                                                                                     | 10130/45694 [00:48<02:47, 212.12it/s]"
     ]
    },
    {
     "name": "stdout",
     "output_type": "stream",
     "text": [
      "2099439\n"
     ]
    },
    {
     "name": "stderr",
     "output_type": "stream",
     "text": [
      " 22%|███████████████████████████████████████████▏                                                                                                                                                    | 10268/45694 [00:48<02:49, 208.53it/s]"
     ]
    },
    {
     "name": "stdout",
     "output_type": "stream",
     "text": [
      "Width 3.0\n",
      " Height 5.0 \n",
      " Frame_Id 0 \n",
      " VideoIdH:/UKBB_NIFTI/UKBB_NIFTI/2115771/la_4ch_ED.nii.gz\n",
      "2115771\n"
     ]
    },
    {
     "name": "stderr",
     "output_type": "stream",
     "text": [
      " 31%|███████████████████████████████████████████████████████████▍                                                                                                                                    | 14142/45694 [01:07<02:27, 214.37it/s]"
     ]
    },
    {
     "name": "stdout",
     "output_type": "stream",
     "text": [
      "2545142\n"
     ]
    },
    {
     "name": "stderr",
     "output_type": "stream",
     "text": [
      " 32%|████████████████████████████████████████████████████████████▌                                                                                                                                   | 14414/45694 [01:08<02:27, 212.46it/s]"
     ]
    },
    {
     "name": "stdout",
     "output_type": "stream",
     "text": [
      "2573864\n"
     ]
    },
    {
     "name": "stderr",
     "output_type": "stream",
     "text": [
      " 41%|██████████████████████████████████████████████████████████████████████████████▉                                                                                                                 | 18800/45694 [01:29<02:05, 214.43it/s]"
     ]
    },
    {
     "name": "stdout",
     "output_type": "stream",
     "text": [
      "3060510\n",
      "3064341\n"
     ]
    },
    {
     "name": "stderr",
     "output_type": "stream",
     "text": [
      " 44%|████████████████████████████████████████████████████████████████████████████████████▎                                                                                                           | 20056/45694 [01:35<02:00, 213.50it/s]"
     ]
    },
    {
     "name": "stdout",
     "output_type": "stream",
     "text": [
      "Width 0.0\n",
      " Height 1.0 \n",
      " Frame_Id 0 \n",
      " VideoIdH:/UKBB_NIFTI/UKBB_NIFTI/3200968/la_4ch_ED.nii.gz\n",
      "3200968\n"
     ]
    },
    {
     "name": "stderr",
     "output_type": "stream",
     "text": [
      " 45%|██████████████████████████████████████████████████████████████████████████████████████▍                                                                                                         | 20582/45694 [01:37<01:57, 213.74it/s]"
     ]
    },
    {
     "name": "stdout",
     "output_type": "stream",
     "text": [
      "3255925\n"
     ]
    },
    {
     "name": "stderr",
     "output_type": "stream",
     "text": [
      " 48%|████████████████████████████████████████████████████████████████████████████████████████████▉                                                                                                   | 22104/45694 [01:44<01:55, 204.37it/s]"
     ]
    },
    {
     "name": "stdout",
     "output_type": "stream",
     "text": [
      "Width 2.0\n",
      " Height 2.0 \n",
      " Frame_Id 0 \n",
      " VideoIdH:/UKBB_NIFTI/UKBB_NIFTI/3421339/la_4ch_ED.nii.gz\n",
      "3421339\n"
     ]
    },
    {
     "name": "stderr",
     "output_type": "stream",
     "text": [
      " 54%|███████████████████████████████████████████████████████████████████████████████████████████████████████▎                                                                                        | 24592/45694 [01:56<01:37, 215.85it/s]"
     ]
    },
    {
     "name": "stdout",
     "output_type": "stream",
     "text": [
      "3695694\n"
     ]
    },
    {
     "name": "stderr",
     "output_type": "stream",
     "text": [
      " 89%|██████████████████████████████████████████████████████████████████████████████████████████████████████████████████████████████████████████████████████████████████████████▎                     | 40522/45694 [03:11<00:25, 201.75it/s]"
     ]
    },
    {
     "name": "stdout",
     "output_type": "stream",
     "text": [
      "5466491\n"
     ]
    },
    {
     "name": "stderr",
     "output_type": "stream",
     "text": [
      "100%|████████████████████████████████████████████████████████████████████████████████████████████████████████████████████████████████████████████████████████████████████████████████████████████████| 45694/45694 [03:38<00:00, 209.36it/s]\n"
     ]
    }
   ],
   "source": [
    "cnt=0\n",
    "for idx in tqdm(os.listdir(\"H:/UKBB_NIFTI/UKBB_NIFTI/\")):\n",
    "    try:\n",
    "        image_path = f\"H:/UKBB_NIFTI/UKBB_NIFTI/{idx}/la_4ch_ED.nii.gz\"\n",
    "        seg_image_path=f\"H:/UKBB_NIFTI/UKBB_NIFTI/{idx}/seg4_la_4ch_ED.nii.gz\"\n",
    "        if(os.path.exists(image_path)):\n",
    "            orig_image, masked_image,shape_properties = segment_left_ventricle_ED(image_path,seg_image_path)\n",
    "            width = shape_properties[1]\n",
    "            length = shape_properties[0]\n",
    "            angle = shape_properties[2]\n",
    "            sphericity_index = width/length\n",
    "            with open(\"SA_traits.csv\",'a') as f:\n",
    "                f.write(f\"{idx},{length},{width},{sphericity_index}\\n\")\n",
    "    except:\n",
    "        print(idx)"
   ]
  },
  {
   "cell_type": "code",
   "execution_count": 6,
   "metadata": {},
   "outputs": [
    {
     "data": {
      "text/plain": [
       "<matplotlib.image.AxesImage at 0x2624c6814c0>"
      ]
     },
     "execution_count": 6,
     "metadata": {},
     "output_type": "execute_result"
    },
    {
     "data": {
      "image/png": "[encoded data removed]",
      "text/plain": [
       "<Figure size 432x288 with 1 Axes>"
      ]
     },
     "metadata": {
      "needs_background": "light"
     },
     "output_type": "display_data"
    }
   ],
   "source": [
    "idx=\"1469109\"\n",
    "image_path = f\"E:/UKBB_NIFTI/{idx}/la_4ch_ED.nii.gz\"\n",
    "seg_image_path=f\"E:/UKBB_NIFTI/{idx}/seg4_la_4ch_ED.nii.gz\"\n",
    "nim = nib.load(image_path)\n",
    "image = np.squeeze(nim.get_fdata())\n",
    "seg_nim = nib.load(seg_image_path)\n",
    "seg_image = np.squeeze(seg_nim.get_fdata())\n",
    "plt.imshow(seg_image)"
   ]
  },
  {
   "cell_type": "code",
   "execution_count": 8,
   "metadata": {},
   "outputs": [
    {
     "data": {
      "text/plain": [
       "45513"
      ]
     },
     "execution_count": 8,
     "metadata": {},
     "output_type": "execute_result"
    }
   ],
   "source": [
    "cnt"
   ]
  },
  {
   "cell_type": "code",
   "execution_count": 9,
   "metadata": {},
   "outputs": [
    {
     "data": {
      "text/plain": [
       "45692"
      ]
     },
     "execution_count": 9,
     "metadata": {},
     "output_type": "execute_result"
    }
   ],
   "source": [
    "45692"
   ]
  },
  {
   "cell_type": "code",
   "execution_count": 15,
   "metadata": {},
   "outputs": [
    {
     "name": "stderr",
     "output_type": "stream",
     "text": [
      "\n",
      "\n",
      "  0%|                                                                                                                                                                                                           | 0/45692 [00:00<?, ?it/s]\u001b[A\u001b[A\n",
      "\n",
      "  6%|███████████▎                                                                                                                                                                                 | 2732/45692 [00:00<00:01, 25066.15it/s]\u001b[A\u001b[A\n",
      "\n",
      " 15%|███████████████████████████▌                                                                                                                                                                 | 6649/45692 [00:00<00:01, 27617.75it/s]\u001b[A\u001b[A\n",
      "\n",
      " 23%|██████████████████████████████████████████▊                                                                                                                                                 | 10419/45692 [00:00<00:01, 30009.05it/s]\u001b[A\u001b[A\n",
      "\n",
      " 31%|███████████████████████████████████████████████████████████                                                                                                                                 | 14357/45692 [00:00<00:00, 32090.27it/s]\u001b[A\u001b[A\n",
      "\n",
      " 39%|██████████████████████████████████████████████████████████████████████████                                                                                                                  | 18010/45692 [00:00<00:00, 33287.45it/s]\u001b[A\u001b[A\n",
      "\n",
      " 47%|████████████████████████████████████████████████████████████████████████████████████████▌                                                                                                   | 21512/45692 [00:00<00:00, 33736.99it/s]\u001b[A\u001b[A\n",
      "\n",
      " 56%|████████████████████████████████████████████████████████████████████████████████████████████████████████▌                                                                                   | 25412/45692 [00:00<00:00, 35117.79it/s]\u001b[A\u001b[A\n",
      "\n",
      " 63%|██████████████████████████████████████████████████████████████████████████████████████████████████████████████████████▋                                                                     | 28832/45692 [00:00<00:00, 34767.90it/s]\u001b[A\u001b[A\n",
      "\n",
      " 71%|██████████████████████████████████████████████████████████████████████████████████████████████████████████████████████████████████████                                                      | 32579/45692 [00:00<00:00, 35469.13it/s]\u001b[A\u001b[A\n",
      "\n",
      " 79%|████████████████████████████████████████████████████████████████████████████████████████████████████████████████████████████████████████████████████▎                                       | 36060/45692 [00:01<00:00, 34679.51it/s]\u001b[A\u001b[A\n",
      "\n",
      " 86%|██████████████████████████████████████████████████████████████████████████████████████████████████████████████████████████████████████████████████████████████████▍                         | 39486/45692 [00:01<00:00, 34214.39it/s]\u001b[A\u001b[A\n",
      "\n",
      "100%|████████████████████████████████████████████████████████████████████████████████████████████████████████████████████████████████████████████████████████████████████████████████████████████| 45692/45692 [00:01<00:00, 35217.14it/s]\u001b[A\u001b[A\n"
     ]
    }
   ],
   "source": [
    "cnt=0\n",
    "for idx in tqdm(os.listdir(\"E:/UKBB_NIFTI/\")):\n",
    "\n",
    "    image_path = f\"E:/UKBB_NIFTI/{idx}/la_4ch_ED.nii.gz\"\n",
    "    seg_image_path=f\"E:/UKBB_NIFTI/{idx}/seg4_la_4ch_ED.nii.gz\"\n",
    "    if(os.path.exists(seg_image_path)):\n",
    "        cnt+=1"
   ]
  },
  {
   "cell_type": "code",
   "execution_count": 16,
   "metadata": {},
   "outputs": [
    {
     "data": {
      "text/plain": [
       "45529"
      ]
     },
     "execution_count": 16,
     "metadata": {},
     "output_type": "execute_result"
    }
   ],
   "source": [
    "cnt"
   ]
  },
  {
   "cell_type": "code",
   "execution_count": 18,
   "metadata": {},
   "outputs": [],
   "source": [
    "import pandas as pd"
   ]
  },
  {
   "cell_type": "code",
   "execution_count": 19,
   "metadata": {},
   "outputs": [],
   "source": [
    "imaging=pd.read_csv(\"SA_traits.csv\")"
   ]
  },
  {
   "cell_type": "code",
   "execution_count": 20,
   "metadata": {},
   "outputs": [
    {
     "data": {
      "text/html": [
       "<div>\n",
       "<style scoped>\n",
       "    .dataframe tbody tr th:only-of-type {\n",
       "        vertical-align: middle;\n",
       "    }\n",
       "\n",
       "    .dataframe tbody tr th {\n",
       "        vertical-align: top;\n",
       "    }\n",
       "\n",
       "    .dataframe thead th {\n",
       "        text-align: right;\n",
       "    }\n",
       "</style>\n",
       "<table border=\"1\" class=\"dataframe\">\n",
       "  <thead>\n",
       "    <tr style=\"text-align: right;\">\n",
       "      <th></th>\n",
       "      <th>idx</th>\n",
       "      <th>width</th>\n",
       "      <th>length</th>\n",
       "      <th>sphericity_index</th>\n",
       "    </tr>\n",
       "  </thead>\n",
       "  <tbody>\n",
       "    <tr>\n",
       "      <th>0</th>\n",
       "      <td>1000012</td>\n",
       "      <td>48.623144</td>\n",
       "      <td>89.455828</td>\n",
       "      <td>1.839779</td>\n",
       "    </tr>\n",
       "    <tr>\n",
       "      <th>1</th>\n",
       "      <td>1000158</td>\n",
       "      <td>45.480684</td>\n",
       "      <td>88.738277</td>\n",
       "      <td>1.951120</td>\n",
       "    </tr>\n",
       "    <tr>\n",
       "      <th>2</th>\n",
       "      <td>1000243</td>\n",
       "      <td>54.930870</td>\n",
       "      <td>94.363001</td>\n",
       "      <td>1.717850</td>\n",
       "    </tr>\n",
       "    <tr>\n",
       "      <th>3</th>\n",
       "      <td>1000262</td>\n",
       "      <td>53.962154</td>\n",
       "      <td>84.000733</td>\n",
       "      <td>1.556660</td>\n",
       "    </tr>\n",
       "    <tr>\n",
       "      <th>4</th>\n",
       "      <td>1000369</td>\n",
       "      <td>49.485898</td>\n",
       "      <td>82.698406</td>\n",
       "      <td>1.671151</td>\n",
       "    </tr>\n",
       "    <tr>\n",
       "      <th>...</th>\n",
       "      <td>...</td>\n",
       "      <td>...</td>\n",
       "      <td>...</td>\n",
       "      <td>...</td>\n",
       "    </tr>\n",
       "    <tr>\n",
       "      <th>45508</th>\n",
       "      <td>6024290</td>\n",
       "      <td>53.106616</td>\n",
       "      <td>99.677033</td>\n",
       "      <td>1.876923</td>\n",
       "    </tr>\n",
       "    <tr>\n",
       "      <th>45509</th>\n",
       "      <td>6024323</td>\n",
       "      <td>44.329661</td>\n",
       "      <td>79.344485</td>\n",
       "      <td>1.789873</td>\n",
       "    </tr>\n",
       "    <tr>\n",
       "      <th>45510</th>\n",
       "      <td>6024624</td>\n",
       "      <td>45.818877</td>\n",
       "      <td>90.800883</td>\n",
       "      <td>1.981735</td>\n",
       "    </tr>\n",
       "    <tr>\n",
       "      <th>45511</th>\n",
       "      <td>6024638</td>\n",
       "      <td>54.521523</td>\n",
       "      <td>72.519776</td>\n",
       "      <td>1.330113</td>\n",
       "    </tr>\n",
       "    <tr>\n",
       "      <th>45512</th>\n",
       "      <td>6024797</td>\n",
       "      <td>55.548672</td>\n",
       "      <td>96.887223</td>\n",
       "      <td>1.744186</td>\n",
       "    </tr>\n",
       "  </tbody>\n",
       "</table>\n",
       "<p>45513 rows × 4 columns</p>\n",
       "</div>"
      ],
      "text/plain": [
       "           idx      width     length  sphericity_index\n",
       "0      1000012  48.623144  89.455828          1.839779\n",
       "1      1000158  45.480684  88.738277          1.951120\n",
       "2      1000243  54.930870  94.363001          1.717850\n",
       "3      1000262  53.962154  84.000733          1.556660\n",
       "4      1000369  49.485898  82.698406          1.671151\n",
       "...        ...        ...        ...               ...\n",
       "45508  6024290  53.106616  99.677033          1.876923\n",
       "45509  6024323  44.329661  79.344485          1.789873\n",
       "45510  6024624  45.818877  90.800883          1.981735\n",
       "45511  6024638  54.521523  72.519776          1.330113\n",
       "45512  6024797  55.548672  96.887223          1.744186\n",
       "\n",
       "[45513 rows x 4 columns]"
      ]
     },
     "execution_count": 20,
     "metadata": {},
     "output_type": "execute_result"
    }
   ],
   "source": [
    "imaging"
   ]
  },
  {
   "cell_type": "code",
   "execution_count": 21,
   "metadata": {},
   "outputs": [
    {
     "name": "stderr",
     "output_type": "stream",
     "text": [
      "C:\\ProgramData\\Anaconda3\\lib\\site-packages\\IPython\\core\\interactiveshell.py:3071: DtypeWarning: Columns (7,12,39,40,42,43,44,45,46,198,200,220,222,224,226,228,230,232,234,236,366,367,2409,2412,2422,2425,2435,2438,2448,2451,2461,2464,2474,2477,2487,2490,2500,2503,2513,2516,2525,2526,2528,2529,2539,2542,2551,2552,2554,2555,2565,2568,2578,2581,2591,2594,2604,2607,2617,2620,2629,2630,2632,2633,2643,2646,2656,2659,2669,2672,2682,2685,2695,2698,2707,2708,2710,2711,2721,2724,2734,2737,2747,2750,2759,2760,2762,2763,2772,2773,2775,2776,2785,2786,2788,2789,2798,2799,2801,2802,2813,2820,2827,2828,2835,2836,3050,3258) have mixed types.Specify dtype option on import or set low_memory=False.\n",
      "  has_raised = await self.run_ast_nodes(code_ast.body, cell_name,\n"
     ]
    }
   ],
   "source": [
    "df = pd.read_csv(\"I:/UKB_DATA/main_df/ukb45494.csv\")"
   ]
  },
  {
   "cell_type": "code",
   "execution_count": 22,
   "metadata": {},
   "outputs": [],
   "source": [
    "df=df[['eid', '22420-2.0', '22420-3.0', '22421-2.0','22421-3.0','22422-2.0','22422-3.0']]\n",
    "df=df.rename(columns={'eid':'idx',\n",
    "                    '22420-2.0':'EF1',\n",
    "                    '22420-3.0':'EF2',\n",
    "                    '22421-2.0':\"LVED1\",\n",
    "                   \"22421-3.0\":\"LVED2\",\n",
    "                   \"22422-2.0\":\"LVES1\",\n",
    "                   \"22422-3.0\":\"LVES2\"\n",
    "                  })\n"
   ]
  },
  {
   "cell_type": "code",
   "execution_count": 23,
   "metadata": {},
   "outputs": [],
   "source": [
    "df = pd.merge(imaging,df,on='idx')"
   ]
  },
  {
   "cell_type": "code",
   "execution_count": 24,
   "metadata": {},
   "outputs": [
    {
     "data": {
      "text/html": [
       "<div>\n",
       "<style scoped>\n",
       "    .dataframe tbody tr th:only-of-type {\n",
       "        vertical-align: middle;\n",
       "    }\n",
       "\n",
       "    .dataframe tbody tr th {\n",
       "        vertical-align: top;\n",
       "    }\n",
       "\n",
       "    .dataframe thead th {\n",
       "        text-align: right;\n",
       "    }\n",
       "</style>\n",
       "<table border=\"1\" class=\"dataframe\">\n",
       "  <thead>\n",
       "    <tr style=\"text-align: right;\">\n",
       "      <th></th>\n",
       "      <th>idx</th>\n",
       "      <th>width</th>\n",
       "      <th>length</th>\n",
       "      <th>sphericity_index</th>\n",
       "      <th>EF1</th>\n",
       "      <th>EF2</th>\n",
       "      <th>LVED1</th>\n",
       "      <th>LVED2</th>\n",
       "      <th>LVES1</th>\n",
       "      <th>LVES2</th>\n",
       "    </tr>\n",
       "  </thead>\n",
       "  <tbody>\n",
       "    <tr>\n",
       "      <th>0</th>\n",
       "      <td>1000012</td>\n",
       "      <td>48.623144</td>\n",
       "      <td>89.455828</td>\n",
       "      <td>1.839779</td>\n",
       "      <td>45.0</td>\n",
       "      <td>NaN</td>\n",
       "      <td>125.0</td>\n",
       "      <td>NaN</td>\n",
       "      <td>68.0</td>\n",
       "      <td>NaN</td>\n",
       "    </tr>\n",
       "    <tr>\n",
       "      <th>1</th>\n",
       "      <td>1000158</td>\n",
       "      <td>45.480684</td>\n",
       "      <td>88.738277</td>\n",
       "      <td>1.951120</td>\n",
       "      <td>52.0</td>\n",
       "      <td>NaN</td>\n",
       "      <td>130.0</td>\n",
       "      <td>NaN</td>\n",
       "      <td>62.0</td>\n",
       "      <td>NaN</td>\n",
       "    </tr>\n",
       "    <tr>\n",
       "      <th>2</th>\n",
       "      <td>1000243</td>\n",
       "      <td>54.930870</td>\n",
       "      <td>94.363001</td>\n",
       "      <td>1.717850</td>\n",
       "      <td>NaN</td>\n",
       "      <td>NaN</td>\n",
       "      <td>NaN</td>\n",
       "      <td>NaN</td>\n",
       "      <td>NaN</td>\n",
       "      <td>NaN</td>\n",
       "    </tr>\n",
       "    <tr>\n",
       "      <th>3</th>\n",
       "      <td>1000262</td>\n",
       "      <td>53.962154</td>\n",
       "      <td>84.000733</td>\n",
       "      <td>1.556660</td>\n",
       "      <td>56.0</td>\n",
       "      <td>NaN</td>\n",
       "      <td>127.0</td>\n",
       "      <td>NaN</td>\n",
       "      <td>56.0</td>\n",
       "      <td>NaN</td>\n",
       "    </tr>\n",
       "    <tr>\n",
       "      <th>4</th>\n",
       "      <td>1000369</td>\n",
       "      <td>49.485898</td>\n",
       "      <td>82.698406</td>\n",
       "      <td>1.671151</td>\n",
       "      <td>60.0</td>\n",
       "      <td>NaN</td>\n",
       "      <td>104.0</td>\n",
       "      <td>NaN</td>\n",
       "      <td>42.0</td>\n",
       "      <td>NaN</td>\n",
       "    </tr>\n",
       "    <tr>\n",
       "      <th>...</th>\n",
       "      <td>...</td>\n",
       "      <td>...</td>\n",
       "      <td>...</td>\n",
       "      <td>...</td>\n",
       "      <td>...</td>\n",
       "      <td>...</td>\n",
       "      <td>...</td>\n",
       "      <td>...</td>\n",
       "      <td>...</td>\n",
       "      <td>...</td>\n",
       "    </tr>\n",
       "    <tr>\n",
       "      <th>45508</th>\n",
       "      <td>6024290</td>\n",
       "      <td>53.106616</td>\n",
       "      <td>99.677033</td>\n",
       "      <td>1.876923</td>\n",
       "      <td>50.0</td>\n",
       "      <td>NaN</td>\n",
       "      <td>177.0</td>\n",
       "      <td>NaN</td>\n",
       "      <td>89.0</td>\n",
       "      <td>NaN</td>\n",
       "    </tr>\n",
       "    <tr>\n",
       "      <th>45509</th>\n",
       "      <td>6024323</td>\n",
       "      <td>44.329661</td>\n",
       "      <td>79.344485</td>\n",
       "      <td>1.789873</td>\n",
       "      <td>68.0</td>\n",
       "      <td>NaN</td>\n",
       "      <td>86.0</td>\n",
       "      <td>NaN</td>\n",
       "      <td>28.0</td>\n",
       "      <td>NaN</td>\n",
       "    </tr>\n",
       "    <tr>\n",
       "      <th>45510</th>\n",
       "      <td>6024624</td>\n",
       "      <td>45.818877</td>\n",
       "      <td>90.800883</td>\n",
       "      <td>1.981735</td>\n",
       "      <td>57.0</td>\n",
       "      <td>NaN</td>\n",
       "      <td>128.0</td>\n",
       "      <td>NaN</td>\n",
       "      <td>55.0</td>\n",
       "      <td>NaN</td>\n",
       "    </tr>\n",
       "    <tr>\n",
       "      <th>45511</th>\n",
       "      <td>6024638</td>\n",
       "      <td>54.521523</td>\n",
       "      <td>72.519776</td>\n",
       "      <td>1.330113</td>\n",
       "      <td>42.0</td>\n",
       "      <td>NaN</td>\n",
       "      <td>136.0</td>\n",
       "      <td>NaN</td>\n",
       "      <td>79.0</td>\n",
       "      <td>NaN</td>\n",
       "    </tr>\n",
       "    <tr>\n",
       "      <th>45512</th>\n",
       "      <td>6024797</td>\n",
       "      <td>55.548672</td>\n",
       "      <td>96.887223</td>\n",
       "      <td>1.744186</td>\n",
       "      <td>57.0</td>\n",
       "      <td>NaN</td>\n",
       "      <td>163.0</td>\n",
       "      <td>NaN</td>\n",
       "      <td>69.0</td>\n",
       "      <td>NaN</td>\n",
       "    </tr>\n",
       "  </tbody>\n",
       "</table>\n",
       "<p>45513 rows × 10 columns</p>\n",
       "</div>"
      ],
      "text/plain": [
       "           idx      width     length  sphericity_index   EF1  EF2  LVED1  \\\n",
       "0      1000012  48.623144  89.455828          1.839779  45.0  NaN  125.0   \n",
       "1      1000158  45.480684  88.738277          1.951120  52.0  NaN  130.0   \n",
       "2      1000243  54.930870  94.363001          1.717850   NaN  NaN    NaN   \n",
       "3      1000262  53.962154  84.000733          1.556660  56.0  NaN  127.0   \n",
       "4      1000369  49.485898  82.698406          1.671151  60.0  NaN  104.0   \n",
       "...        ...        ...        ...               ...   ...  ...    ...   \n",
       "45508  6024290  53.106616  99.677033          1.876923  50.0  NaN  177.0   \n",
       "45509  6024323  44.329661  79.344485          1.789873  68.0  NaN   86.0   \n",
       "45510  6024624  45.818877  90.800883          1.981735  57.0  NaN  128.0   \n",
       "45511  6024638  54.521523  72.519776          1.330113  42.0  NaN  136.0   \n",
       "45512  6024797  55.548672  96.887223          1.744186  57.0  NaN  163.0   \n",
       "\n",
       "       LVED2  LVES1  LVES2  \n",
       "0        NaN   68.0    NaN  \n",
       "1        NaN   62.0    NaN  \n",
       "2        NaN    NaN    NaN  \n",
       "3        NaN   56.0    NaN  \n",
       "4        NaN   42.0    NaN  \n",
       "...      ...    ...    ...  \n",
       "45508    NaN   89.0    NaN  \n",
       "45509    NaN   28.0    NaN  \n",
       "45510    NaN   55.0    NaN  \n",
       "45511    NaN   79.0    NaN  \n",
       "45512    NaN   69.0    NaN  \n",
       "\n",
       "[45513 rows x 10 columns]"
      ]
     },
     "execution_count": 24,
     "metadata": {},
     "output_type": "execute_result"
    }
   ],
   "source": [
    "df"
   ]
  },
  {
   "cell_type": "code",
   "execution_count": 25,
   "metadata": {},
   "outputs": [
    {
     "data": {
      "text/html": [
       "<div>\n",
       "<style scoped>\n",
       "    .dataframe tbody tr th:only-of-type {\n",
       "        vertical-align: middle;\n",
       "    }\n",
       "\n",
       "    .dataframe tbody tr th {\n",
       "        vertical-align: top;\n",
       "    }\n",
       "\n",
       "    .dataframe thead th {\n",
       "        text-align: right;\n",
       "    }\n",
       "</style>\n",
       "<table border=\"1\" class=\"dataframe\">\n",
       "  <thead>\n",
       "    <tr style=\"text-align: right;\">\n",
       "      <th></th>\n",
       "      <th>idx</th>\n",
       "      <th>width</th>\n",
       "      <th>length</th>\n",
       "      <th>sphericity_index</th>\n",
       "      <th>EF1</th>\n",
       "      <th>EF2</th>\n",
       "      <th>LVED1</th>\n",
       "      <th>LVED2</th>\n",
       "      <th>LVES1</th>\n",
       "      <th>LVES2</th>\n",
       "    </tr>\n",
       "  </thead>\n",
       "  <tbody>\n",
       "    <tr>\n",
       "      <th>0</th>\n",
       "      <td>1000012</td>\n",
       "      <td>48.623144</td>\n",
       "      <td>89.455828</td>\n",
       "      <td>1.839779</td>\n",
       "      <td>45.0</td>\n",
       "      <td>NaN</td>\n",
       "      <td>125.0</td>\n",
       "      <td>90.0</td>\n",
       "      <td>68.0</td>\n",
       "      <td>NaN</td>\n",
       "    </tr>\n",
       "    <tr>\n",
       "      <th>1</th>\n",
       "      <td>1000158</td>\n",
       "      <td>45.480684</td>\n",
       "      <td>88.738277</td>\n",
       "      <td>1.951120</td>\n",
       "      <td>52.0</td>\n",
       "      <td>NaN</td>\n",
       "      <td>130.0</td>\n",
       "      <td>90.0</td>\n",
       "      <td>62.0</td>\n",
       "      <td>NaN</td>\n",
       "    </tr>\n",
       "    <tr>\n",
       "      <th>2</th>\n",
       "      <td>1000243</td>\n",
       "      <td>54.930870</td>\n",
       "      <td>94.363001</td>\n",
       "      <td>1.717850</td>\n",
       "      <td>NaN</td>\n",
       "      <td>NaN</td>\n",
       "      <td>90.0</td>\n",
       "      <td>90.0</td>\n",
       "      <td>NaN</td>\n",
       "      <td>NaN</td>\n",
       "    </tr>\n",
       "    <tr>\n",
       "      <th>3</th>\n",
       "      <td>1000262</td>\n",
       "      <td>53.962154</td>\n",
       "      <td>84.000733</td>\n",
       "      <td>1.556660</td>\n",
       "      <td>56.0</td>\n",
       "      <td>NaN</td>\n",
       "      <td>127.0</td>\n",
       "      <td>90.0</td>\n",
       "      <td>56.0</td>\n",
       "      <td>NaN</td>\n",
       "    </tr>\n",
       "    <tr>\n",
       "      <th>4</th>\n",
       "      <td>1000369</td>\n",
       "      <td>49.485898</td>\n",
       "      <td>82.698406</td>\n",
       "      <td>1.671151</td>\n",
       "      <td>60.0</td>\n",
       "      <td>NaN</td>\n",
       "      <td>104.0</td>\n",
       "      <td>90.0</td>\n",
       "      <td>42.0</td>\n",
       "      <td>NaN</td>\n",
       "    </tr>\n",
       "    <tr>\n",
       "      <th>...</th>\n",
       "      <td>...</td>\n",
       "      <td>...</td>\n",
       "      <td>...</td>\n",
       "      <td>...</td>\n",
       "      <td>...</td>\n",
       "      <td>...</td>\n",
       "      <td>...</td>\n",
       "      <td>...</td>\n",
       "      <td>...</td>\n",
       "      <td>...</td>\n",
       "    </tr>\n",
       "    <tr>\n",
       "      <th>45508</th>\n",
       "      <td>6024290</td>\n",
       "      <td>53.106616</td>\n",
       "      <td>99.677033</td>\n",
       "      <td>1.876923</td>\n",
       "      <td>50.0</td>\n",
       "      <td>NaN</td>\n",
       "      <td>177.0</td>\n",
       "      <td>90.0</td>\n",
       "      <td>89.0</td>\n",
       "      <td>NaN</td>\n",
       "    </tr>\n",
       "    <tr>\n",
       "      <th>45509</th>\n",
       "      <td>6024323</td>\n",
       "      <td>44.329661</td>\n",
       "      <td>79.344485</td>\n",
       "      <td>1.789873</td>\n",
       "      <td>68.0</td>\n",
       "      <td>NaN</td>\n",
       "      <td>86.0</td>\n",
       "      <td>90.0</td>\n",
       "      <td>28.0</td>\n",
       "      <td>NaN</td>\n",
       "    </tr>\n",
       "    <tr>\n",
       "      <th>45510</th>\n",
       "      <td>6024624</td>\n",
       "      <td>45.818877</td>\n",
       "      <td>90.800883</td>\n",
       "      <td>1.981735</td>\n",
       "      <td>57.0</td>\n",
       "      <td>NaN</td>\n",
       "      <td>128.0</td>\n",
       "      <td>90.0</td>\n",
       "      <td>55.0</td>\n",
       "      <td>NaN</td>\n",
       "    </tr>\n",
       "    <tr>\n",
       "      <th>45511</th>\n",
       "      <td>6024638</td>\n",
       "      <td>54.521523</td>\n",
       "      <td>72.519776</td>\n",
       "      <td>1.330113</td>\n",
       "      <td>42.0</td>\n",
       "      <td>NaN</td>\n",
       "      <td>136.0</td>\n",
       "      <td>90.0</td>\n",
       "      <td>79.0</td>\n",
       "      <td>NaN</td>\n",
       "    </tr>\n",
       "    <tr>\n",
       "      <th>45512</th>\n",
       "      <td>6024797</td>\n",
       "      <td>55.548672</td>\n",
       "      <td>96.887223</td>\n",
       "      <td>1.744186</td>\n",
       "      <td>57.0</td>\n",
       "      <td>NaN</td>\n",
       "      <td>163.0</td>\n",
       "      <td>90.0</td>\n",
       "      <td>69.0</td>\n",
       "      <td>NaN</td>\n",
       "    </tr>\n",
       "  </tbody>\n",
       "</table>\n",
       "<p>45513 rows × 10 columns</p>\n",
       "</div>"
      ],
      "text/plain": [
       "           idx      width     length  sphericity_index   EF1  EF2  LVED1  \\\n",
       "0      1000012  48.623144  89.455828          1.839779  45.0  NaN  125.0   \n",
       "1      1000158  45.480684  88.738277          1.951120  52.0  NaN  130.0   \n",
       "2      1000243  54.930870  94.363001          1.717850   NaN  NaN   90.0   \n",
       "3      1000262  53.962154  84.000733          1.556660  56.0  NaN  127.0   \n",
       "4      1000369  49.485898  82.698406          1.671151  60.0  NaN  104.0   \n",
       "...        ...        ...        ...               ...   ...  ...    ...   \n",
       "45508  6024290  53.106616  99.677033          1.876923  50.0  NaN  177.0   \n",
       "45509  6024323  44.329661  79.344485          1.789873  68.0  NaN   86.0   \n",
       "45510  6024624  45.818877  90.800883          1.981735  57.0  NaN  128.0   \n",
       "45511  6024638  54.521523  72.519776          1.330113  42.0  NaN  136.0   \n",
       "45512  6024797  55.548672  96.887223          1.744186  57.0  NaN  163.0   \n",
       "\n",
       "       LVED2  LVES1  LVES2  \n",
       "0       90.0   68.0    NaN  \n",
       "1       90.0   62.0    NaN  \n",
       "2       90.0    NaN    NaN  \n",
       "3       90.0   56.0    NaN  \n",
       "4       90.0   42.0    NaN  \n",
       "...      ...    ...    ...  \n",
       "45508   90.0   89.0    NaN  \n",
       "45509   90.0   28.0    NaN  \n",
       "45510   90.0   55.0    NaN  \n",
       "45511   90.0   79.0    NaN  \n",
       "45512   90.0   69.0    NaN  \n",
       "\n",
       "[45513 rows x 10 columns]"
      ]
     },
     "execution_count": 25,
     "metadata": {},
     "output_type": "execute_result"
    }
   ],
   "source": [
    "lv_associated = df\n",
    "\n",
    "\n",
    "lv_associated['LVED1'] = lv_associated['LVED1'].fillna(90)\n",
    "lv_associated['LVED2'] = lv_associated['LVED2'].fillna(90)\n",
    "lv_associated=lv_associated.fillna(60)\n",
    "\n",
    "df"
   ]
  },
  {
   "cell_type": "code",
   "execution_count": 26,
   "metadata": {},
   "outputs": [],
   "source": [
    "exclude = (np.array(lv_associated['EF1'])<48) | \\\n",
    "(np.array(lv_associated['EF1'])>70) | \\\n",
    "(np.array(lv_associated['EF2'])<48) | \\\n",
    "(np.array(lv_associated['EF2'])>70) | \\\n",
    "(np.array(lv_associated['LVED1'])<88) | \\\n",
    "(np.array(lv_associated['LVED1'])>218) | \\\n",
    "(np.array(lv_associated['LVED2'])<88) | \\\n",
    "(np.array(lv_associated['LVED2'])>218) | \\\n",
    "(np.array(lv_associated['LVES1'])<31) | \\\n",
    "(np.array(lv_associated['LVES1'])>93) | \\\n",
    "(np.array(lv_associated['LVES2'])<31) | \\\n",
    "(np.array(lv_associated['LVES2'])>93)"
   ]
  },
  {
   "cell_type": "code",
   "execution_count": 28,
   "metadata": {},
   "outputs": [],
   "source": [
    "lv_associated[~exclude].to_csv(\"SA_normal.csv\")"
   ]
  },
  {
   "cell_type": "code",
   "execution_count": 29,
   "metadata": {},
   "outputs": [],
   "source": [
    "import pandas as pd"
   ]
  },
  {
   "cell_type": "code",
   "execution_count": 45,
   "metadata": {},
   "outputs": [],
   "source": [
    "df=pd.read_csv(\"SA_NORMAL.csv\")"
   ]
  },
  {
   "cell_type": "code",
   "execution_count": 31,
   "metadata": {},
   "outputs": [],
   "source": [
    "BMI = pd.read_csv(\"I:/UKB_DATA/main_df/BMI.csv\")"
   ]
  },
  {
   "cell_type": "code",
   "execution_count": 32,
   "metadata": {},
   "outputs": [],
   "source": [
    "ids = np.array(df['idx'])"
   ]
  },
  {
   "cell_type": "code",
   "execution_count": 33,
   "metadata": {},
   "outputs": [],
   "source": [
    "adjusted_length=[]\n",
    "adjusted_width=[]"
   ]
  },
  {
   "cell_type": "code",
   "execution_count": 34,
   "metadata": {},
   "outputs": [],
   "source": [
    "BMI=BMI.fillna(np.mean(BMI['21001-0.0']))"
   ]
  },
  {
   "cell_type": "code",
   "execution_count": 35,
   "metadata": {},
   "outputs": [
    {
     "data": {
      "text/plain": [
       "502413"
      ]
     },
     "execution_count": 35,
     "metadata": {},
     "output_type": "execute_result"
    }
   ],
   "source": [
    "len(BMI)"
   ]
  },
  {
   "cell_type": "code",
   "execution_count": 36,
   "metadata": {},
   "outputs": [
    {
     "data": {
      "text/html": [
       "<div>\n",
       "<style scoped>\n",
       "    .dataframe tbody tr th:only-of-type {\n",
       "        vertical-align: middle;\n",
       "    }\n",
       "\n",
       "    .dataframe tbody tr th {\n",
       "        vertical-align: top;\n",
       "    }\n",
       "\n",
       "    .dataframe thead th {\n",
       "        text-align: right;\n",
       "    }\n",
       "</style>\n",
       "<table border=\"1\" class=\"dataframe\">\n",
       "  <thead>\n",
       "    <tr style=\"text-align: right;\">\n",
       "      <th></th>\n",
       "      <th>Unnamed: 0</th>\n",
       "      <th>eid</th>\n",
       "      <th>21001-0.0</th>\n",
       "    </tr>\n",
       "  </thead>\n",
       "  <tbody>\n",
       "    <tr>\n",
       "      <th>502384</th>\n",
       "      <td>502384</td>\n",
       "      <td>6024624</td>\n",
       "      <td>20.9162</td>\n",
       "    </tr>\n",
       "  </tbody>\n",
       "</table>\n",
       "</div>"
      ],
      "text/plain": [
       "        Unnamed: 0      eid  21001-0.0\n",
       "502384      502384  6024624    20.9162"
      ]
     },
     "execution_count": 36,
     "metadata": {},
     "output_type": "execute_result"
    }
   ],
   "source": [
    "BMI[BMI['eid']==6024624]"
   ]
  },
  {
   "cell_type": "code",
   "execution_count": 37,
   "metadata": {},
   "outputs": [
    {
     "name": "stderr",
     "output_type": "stream",
     "text": [
      "100%|████████████████████████████████████████████████████████████████████████████████████████████████████████████████████████████████████████████████████████████████████████████████████████████████| 39016/39016 [01:26<00:00, 451.86it/s]\n"
     ]
    }
   ],
   "source": [
    "for i in tqdm(range(len(df))):\n",
    "\n",
    "    adjusted_length.append(df['length'][i]/get_BMI(BMI,df['idx'][i]))\n",
    "    adjusted_width.append(df['width'][i]/get_BMI(BMI,df['idx'][i]))\n"
   ]
  },
  {
   "cell_type": "code",
   "execution_count": 38,
   "metadata": {},
   "outputs": [],
   "source": [
    "data = {\"idx\":ids, \"pheno\":adjusted_length}\n",
    "df = pd.DataFrame(data)\n",
    "df.to_csv(\"I:/UKB_DATA/tsv_pheno/adjusted_lv_length.tsv\",sep='\\t')"
   ]
  },
  {
   "cell_type": "code",
   "execution_count": 39,
   "metadata": {},
   "outputs": [
    {
     "data": {
      "text/html": [
       "<div>\n",
       "<style scoped>\n",
       "    .dataframe tbody tr th:only-of-type {\n",
       "        vertical-align: middle;\n",
       "    }\n",
       "\n",
       "    .dataframe tbody tr th {\n",
       "        vertical-align: top;\n",
       "    }\n",
       "\n",
       "    .dataframe thead th {\n",
       "        text-align: right;\n",
       "    }\n",
       "</style>\n",
       "<table border=\"1\" class=\"dataframe\">\n",
       "  <thead>\n",
       "    <tr style=\"text-align: right;\">\n",
       "      <th></th>\n",
       "      <th>idx</th>\n",
       "      <th>pheno</th>\n",
       "    </tr>\n",
       "  </thead>\n",
       "  <tbody>\n",
       "    <tr>\n",
       "      <th>0</th>\n",
       "      <td>1000158</td>\n",
       "      <td>3.262437</td>\n",
       "    </tr>\n",
       "    <tr>\n",
       "      <th>1</th>\n",
       "      <td>1000243</td>\n",
       "      <td>3.751725</td>\n",
       "    </tr>\n",
       "    <tr>\n",
       "      <th>2</th>\n",
       "      <td>1000262</td>\n",
       "      <td>3.069058</td>\n",
       "    </tr>\n",
       "    <tr>\n",
       "      <th>3</th>\n",
       "      <td>1000369</td>\n",
       "      <td>3.795002</td>\n",
       "    </tr>\n",
       "    <tr>\n",
       "      <th>4</th>\n",
       "      <td>1000489</td>\n",
       "      <td>3.821994</td>\n",
       "    </tr>\n",
       "    <tr>\n",
       "      <th>...</th>\n",
       "      <td>...</td>\n",
       "      <td>...</td>\n",
       "    </tr>\n",
       "    <tr>\n",
       "      <th>39011</th>\n",
       "      <td>6024127</td>\n",
       "      <td>2.724628</td>\n",
       "    </tr>\n",
       "    <tr>\n",
       "      <th>39012</th>\n",
       "      <td>6024225</td>\n",
       "      <td>2.999932</td>\n",
       "    </tr>\n",
       "    <tr>\n",
       "      <th>39013</th>\n",
       "      <td>6024290</td>\n",
       "      <td>4.011842</td>\n",
       "    </tr>\n",
       "    <tr>\n",
       "      <th>39014</th>\n",
       "      <td>6024624</td>\n",
       "      <td>4.341175</td>\n",
       "    </tr>\n",
       "    <tr>\n",
       "      <th>39015</th>\n",
       "      <td>6024797</td>\n",
       "      <td>4.111209</td>\n",
       "    </tr>\n",
       "  </tbody>\n",
       "</table>\n",
       "<p>39016 rows × 2 columns</p>\n",
       "</div>"
      ],
      "text/plain": [
       "           idx     pheno\n",
       "0      1000158  3.262437\n",
       "1      1000243  3.751725\n",
       "2      1000262  3.069058\n",
       "3      1000369  3.795002\n",
       "4      1000489  3.821994\n",
       "...        ...       ...\n",
       "39011  6024127  2.724628\n",
       "39012  6024225  2.999932\n",
       "39013  6024290  4.011842\n",
       "39014  6024624  4.341175\n",
       "39015  6024797  4.111209\n",
       "\n",
       "[39016 rows x 2 columns]"
      ]
     },
     "execution_count": 39,
     "metadata": {},
     "output_type": "execute_result"
    }
   ],
   "source": [
    "df"
   ]
  },
  {
   "cell_type": "code",
   "execution_count": 40,
   "metadata": {},
   "outputs": [],
   "source": [
    "data = {\"idx\":ids, \"pheno\":adjusted_width}\n",
    "df = pd.DataFrame(data)\n",
    "df.to_csv(\"I:/UKB_DATA/tsv_pheno/adjusted_lv_width.tsv\",sep='\\t')"
   ]
  },
  {
   "cell_type": "code",
   "execution_count": 41,
   "metadata": {},
   "outputs": [
    {
     "data": {
      "text/html": [
       "<div>\n",
       "<style scoped>\n",
       "    .dataframe tbody tr th:only-of-type {\n",
       "        vertical-align: middle;\n",
       "    }\n",
       "\n",
       "    .dataframe tbody tr th {\n",
       "        vertical-align: top;\n",
       "    }\n",
       "\n",
       "    .dataframe thead th {\n",
       "        text-align: right;\n",
       "    }\n",
       "</style>\n",
       "<table border=\"1\" class=\"dataframe\">\n",
       "  <thead>\n",
       "    <tr style=\"text-align: right;\">\n",
       "      <th></th>\n",
       "      <th>idx</th>\n",
       "      <th>pheno</th>\n",
       "    </tr>\n",
       "  </thead>\n",
       "  <tbody>\n",
       "    <tr>\n",
       "      <th>0</th>\n",
       "      <td>1000158</td>\n",
       "      <td>1.672084</td>\n",
       "    </tr>\n",
       "    <tr>\n",
       "      <th>1</th>\n",
       "      <td>1000243</td>\n",
       "      <td>2.183965</td>\n",
       "    </tr>\n",
       "    <tr>\n",
       "      <th>2</th>\n",
       "      <td>1000262</td>\n",
       "      <td>1.971566</td>\n",
       "    </tr>\n",
       "    <tr>\n",
       "      <th>3</th>\n",
       "      <td>1000369</td>\n",
       "      <td>2.270891</td>\n",
       "    </tr>\n",
       "    <tr>\n",
       "      <th>4</th>\n",
       "      <td>1000489</td>\n",
       "      <td>2.047497</td>\n",
       "    </tr>\n",
       "    <tr>\n",
       "      <th>...</th>\n",
       "      <td>...</td>\n",
       "      <td>...</td>\n",
       "    </tr>\n",
       "    <tr>\n",
       "      <th>39011</th>\n",
       "      <td>6024127</td>\n",
       "      <td>1.592859</td>\n",
       "    </tr>\n",
       "    <tr>\n",
       "      <th>39012</th>\n",
       "      <td>6024225</td>\n",
       "      <td>1.928528</td>\n",
       "    </tr>\n",
       "    <tr>\n",
       "      <th>39013</th>\n",
       "      <td>6024290</td>\n",
       "      <td>2.137457</td>\n",
       "    </tr>\n",
       "    <tr>\n",
       "      <th>39014</th>\n",
       "      <td>6024624</td>\n",
       "      <td>2.190593</td>\n",
       "    </tr>\n",
       "    <tr>\n",
       "      <th>39015</th>\n",
       "      <td>6024797</td>\n",
       "      <td>2.357093</td>\n",
       "    </tr>\n",
       "  </tbody>\n",
       "</table>\n",
       "<p>39016 rows × 2 columns</p>\n",
       "</div>"
      ],
      "text/plain": [
       "           idx     pheno\n",
       "0      1000158  1.672084\n",
       "1      1000243  2.183965\n",
       "2      1000262  1.971566\n",
       "3      1000369  2.270891\n",
       "4      1000489  2.047497\n",
       "...        ...       ...\n",
       "39011  6024127  1.592859\n",
       "39012  6024225  1.928528\n",
       "39013  6024290  2.137457\n",
       "39014  6024624  2.190593\n",
       "39015  6024797  2.357093\n",
       "\n",
       "[39016 rows x 2 columns]"
      ]
     },
     "execution_count": 41,
     "metadata": {},
     "output_type": "execute_result"
    }
   ],
   "source": [
    "df"
   ]
  },
  {
   "cell_type": "code",
   "execution_count": 43,
   "metadata": {},
   "outputs": [
    {
     "data": {
      "text/plain": [
       "array([1.95112009, 1.71785009, 1.55666012, ..., 1.87692306, 1.98173525,\n",
       "       1.74418612])"
      ]
     },
     "execution_count": 43,
     "metadata": {},
     "output_type": "execute_result"
    }
   ],
   "source": [
    "np.array(adjusted_length)/np.array(adjusted_width)"
   ]
  },
  {
   "cell_type": "code",
   "execution_count": 47,
   "metadata": {},
   "outputs": [],
   "source": [
    "raw_length=np.array(df['length'])\n",
    "raw_width=np.array(df['width'])"
   ]
  },
  {
   "cell_type": "code",
   "execution_count": 51,
   "metadata": {},
   "outputs": [],
   "source": [
    "data = {\"idx\":ids, \"pheno\":raw_length}\n",
    "df = pd.DataFrame(data)\n",
    "df.to_csv(\"I:/UKB_DATA/tsv_pheno/raw_length.tsv\",sep='\\t')"
   ]
  },
  {
   "cell_type": "code",
   "execution_count": 52,
   "metadata": {},
   "outputs": [],
   "source": [
    "data = {\"idx\":ids, \"pheno\":raw_width}\n",
    "df = pd.DataFrame(data)\n",
    "df.to_csv(\"I:/UKB_DATA/tsv_pheno/raw_width.tsv\",sep='\\t')"
   ]
  },
  {
   "cell_type": "code",
   "execution_count": 53,
   "metadata": {},
   "outputs": [
    {
     "data": {
      "text/plain": [
       "array([45.48068422, 54.93087035, 53.96215381, ..., 53.10661641,\n",
       "       45.81887658, 55.54867233])"
      ]
     },
     "execution_count": 53,
     "metadata": {},
     "output_type": "execute_result"
    }
   ],
   "source": [
    "data = {\"idx\":ids, \"pheno\":sphericity_index}\n",
    "df = pd.DataFrame(data)\n",
    "df.to_csv(\"I:/UKB_DATA/tsv_pheno/sphericity_ind.tsv\",sep='\\t')"
   ]
  },
  {
   "cell_type": "code",
   "execution_count": null,
   "metadata": {},
   "outputs": [],
   "source": []
  }
 ],
 "metadata": {
  "kernelspec": {
   "display_name": "Python 3",
   "language": "python",
   "name": "python3"
  },
  "language_info": {
   "codemirror_mode": {
    "name": "ipython",
    "version": 3
   },
   "file_extension": ".py",
   "mimetype": "text/x-python",
   "name": "python",
   "nbconvert_exporter": "python",
   "pygments_lexer": "ipython3",
   "version": "3.8.3"
  }
 },
 "nbformat": 4,
 "nbformat_minor": 4
}
