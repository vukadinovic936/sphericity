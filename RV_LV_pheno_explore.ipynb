{
 "cells": [
  {
   "cell_type": "code",
   "execution_count": 1,
   "metadata": {},
   "outputs": [
    {
     "ename": "ModuleNotFoundError",
     "evalue": "No module named 'nibabel'",
     "output_type": "error",
     "traceback": [
      "\u001b[1;31m---------------------------------------------------------------------------\u001b[0m",
      "\u001b[1;31mModuleNotFoundError\u001b[0m                       Traceback (most recent call last)",
      "Cell \u001b[1;32mIn[1], line 1\u001b[0m\n\u001b[1;32m----> 1\u001b[0m \u001b[38;5;28;01mfrom\u001b[39;00m \u001b[38;5;21;01mutils\u001b[39;00m \u001b[38;5;28;01mimport\u001b[39;00m \u001b[38;5;241m*\u001b[39m\n\u001b[0;32m      2\u001b[0m \u001b[38;5;28;01mimport\u001b[39;00m \u001b[38;5;21;01mos\u001b[39;00m\n\u001b[0;32m      3\u001b[0m \u001b[38;5;28;01mimport\u001b[39;00m \u001b[38;5;21;01mpandas\u001b[39;00m \u001b[38;5;28;01mas\u001b[39;00m \u001b[38;5;21;01mpd\u001b[39;00m\n",
      "File \u001b[1;32mD:\\UKB\\utils.py:2\u001b[0m\n\u001b[0;32m      1\u001b[0m \u001b[38;5;28;01mfrom\u001b[39;00m \u001b[38;5;21;01mre\u001b[39;00m \u001b[38;5;28;01mimport\u001b[39;00m I\n\u001b[1;32m----> 2\u001b[0m \u001b[38;5;28;01mimport\u001b[39;00m \u001b[38;5;21;01mnibabel\u001b[39;00m \u001b[38;5;28;01mas\u001b[39;00m \u001b[38;5;21;01mnib\u001b[39;00m\n\u001b[0;32m      3\u001b[0m \u001b[38;5;28;01mimport\u001b[39;00m \u001b[38;5;21;01mnumpy\u001b[39;00m \u001b[38;5;28;01mas\u001b[39;00m \u001b[38;5;21;01mnp\u001b[39;00m\n\u001b[0;32m      4\u001b[0m \u001b[38;5;28;01mimport\u001b[39;00m \u001b[38;5;21;01mmatplotlib\u001b[39;00m\u001b[38;5;21;01m.\u001b[39;00m\u001b[38;5;21;01mpyplot\u001b[39;00m \u001b[38;5;28;01mas\u001b[39;00m \u001b[38;5;21;01mplt\u001b[39;00m\n",
      "\u001b[1;31mModuleNotFoundError\u001b[0m: No module named 'nibabel'"
     ]
    }
   ],
   "source": [
    "from utils import *\n",
    "import os\n",
    "import pandas as pd"
   ]
  },
  {
   "cell_type": "markdown",
   "metadata": {},
   "source": [
    "## IVS Wall "
   ]
  },
  {
   "cell_type": "code",
   "execution_count": 2,
   "metadata": {},
   "outputs": [],
   "source": [
    "DATA_PATH = 'E:/UKBB_NIFTI'"
   ]
  },
  {
   "cell_type": "code",
   "execution_count": 5,
   "metadata": {},
   "outputs": [
    {
     "ename": "NameError",
     "evalue": "name 'nib' is not defined",
     "output_type": "error",
     "traceback": [
      "\u001b[1;31m---------------------------------------------------------------------------\u001b[0m",
      "\u001b[1;31mNameError\u001b[0m                                 Traceback (most recent call last)",
      "Cell \u001b[1;32mIn[5], line 3\u001b[0m\n\u001b[0;32m      1\u001b[0m la_ed_img_path \u001b[38;5;241m=\u001b[39m os\u001b[38;5;241m.\u001b[39mpath\u001b[38;5;241m.\u001b[39mjoin(DATA_PATH,\u001b[38;5;124m'\u001b[39m\u001b[38;5;124m4232351/la_4ch_ED.nii.gz\u001b[39m\u001b[38;5;124m'\u001b[39m)\n\u001b[0;32m      2\u001b[0m la_ed_seg_path \u001b[38;5;241m=\u001b[39m os\u001b[38;5;241m.\u001b[39mpath\u001b[38;5;241m.\u001b[39mjoin(DATA_PATH,\u001b[38;5;124m'\u001b[39m\u001b[38;5;124m4232351/seg4_la_4ch_ED.nii.gz\u001b[39m\u001b[38;5;124m'\u001b[39m)\n\u001b[1;32m----> 3\u001b[0m nim \u001b[38;5;241m=\u001b[39m \u001b[43mnib\u001b[49m\u001b[38;5;241m.\u001b[39mload(la_ed_img_path)\n\u001b[0;32m      4\u001b[0m img \u001b[38;5;241m=\u001b[39m nim\u001b[38;5;241m.\u001b[39mget_fdata()\n\u001b[0;32m      5\u001b[0m seg_nim \u001b[38;5;241m=\u001b[39m nib\u001b[38;5;241m.\u001b[39mload(la_ed_seg_path)\n",
      "\u001b[1;31mNameError\u001b[0m: name 'nib' is not defined"
     ]
    }
   ],
   "source": [
    "la_ed_img_path = os.path.join(DATA_PATH,'4232351/la_4ch_ED.nii.gz')\n",
    "la_ed_seg_path = os.path.join(DATA_PATH,'4232351/seg4_la_4ch_ED.nii.gz')\n",
    "nim = nib.load(la_ed_img_path)\n",
    "img = nim.get_fdata()\n",
    "seg_nim = nib.load(la_ed_seg_path)\n",
    "seg_img = seg_nim.get_fdata()\n",
    "print(seg_img.shape)\n",
    "MatPlot(seg_img[:,:,0])"
   ]
  },
  {
   "cell_type": "code",
   "execution_count": null,
   "metadata": {},
   "outputs": [],
   "source": [
    "MatPlot(seg_img[:,:,0]==2)"
   ]
  },
  {
   "cell_type": "code",
   "execution_count": null,
   "metadata": {
    "scrolled": true
   },
   "outputs": [],
   "source": [
    "soi = seg_img[:,:,0]\n",
    "plt.imshow(soi==3,cmap='gray',alpha=0.5)\n",
    "plt.imshow(soi==2,cmap='gray',alpha=0.5)"
   ]
  },
  {
   "cell_type": "code",
   "execution_count": null,
   "metadata": {},
   "outputs": [],
   "source": [
    "rv_mask = soi==3\n",
    "wall_mask = soi==2 \n",
    "plt.imshow((rv_mask | wall_mask),cmap='gray')"
   ]
  },
  {
   "cell_type": "code",
   "execution_count": 149,
   "metadata": {},
   "outputs": [],
   "source": [
    "imgray = (255*rv_mask).astype(np.uint8)\n",
    "contours, hierarchy = cv2.findContours(imgray, cv2.RETR_TREE, cv2.CHAIN_APPROX_SIMPLE)\n",
    "mask = np.zeros(img.shape)\n",
    "cont = contours[0]"
   ]
  },
  {
   "cell_type": "code",
   "execution_count": 150,
   "metadata": {},
   "outputs": [],
   "source": [
    "imgray = (255*wall_mask).astype(np.uint8)\n",
    "contours1, hierarchy1 = cv2.findContours(imgray, cv2.RETR_TREE, cv2.CHAIN_APPROX_SIMPLE)\n",
    "mask = np.zeros(img.shape)\n",
    "cont1 = contours1[0]"
   ]
  },
  {
   "cell_type": "code",
   "execution_count": 122,
   "metadata": {},
   "outputs": [
    {
     "data": {
      "text/plain": [
       "<matplotlib.image.AxesImage at 0x2e5d9552e80>"
      ]
     },
     "execution_count": 122,
     "metadata": {},
     "output_type": "execute_result"
    },
    {
     "data": {
      "image/png": "[encoded data removed]",
      "text/plain": [
       "<Figure size 432x288 with 1 Axes>"
      ]
     },
     "metadata": {
      "needs_background": "light"
     },
     "output_type": "display_data"
    }
   ],
   "source": [
    "blank=np.zeros((imgray.shape[0],imgray.shape[1]))\n",
    "cv2.drawContours(blank,contours,-1,(255,50,255),1)\n",
    "cv2.drawContours(blank,contours1,-1,(255,50,255),1)\n",
    "plt.imshow(blank,cmap='gray')"
   ]
  },
  {
   "cell_type": "code",
   "execution_count": 107,
   "metadata": {},
   "outputs": [
    {
     "data": {
      "text/plain": [
       "set()"
      ]
     },
     "execution_count": 107,
     "metadata": {},
     "output_type": "execute_result"
    }
   ],
   "source": [
    "rv = set((tuple(i) for i in cont[:,0,:]))\n",
    "wall = set((tuple(i) for i in cont1[:,0,:]))\n",
    "rv.intersection(wall)"
   ]
  },
  {
   "cell_type": "code",
   "execution_count": 154,
   "metadata": {},
   "outputs": [],
   "source": [
    "overlap = []\n",
    "cont1 = sorted(cont1[:,0,:], key=lambda x: x[0])\n",
    "cont = sorted(cont[:,0,:], key=lambda x: x[0])"
   ]
  },
  {
   "cell_type": "code",
   "execution_count": 185,
   "metadata": {},
   "outputs": [],
   "source": [
    "def fuzzy_equals(tup1,tup2):\n",
    "    if abs(tup1[0]-tup2[0]) <= 20 and abs(tup1[1]-tup2[1]) <= 20:\n",
    "        return True"
   ]
  },
  {
   "cell_type": "code",
   "execution_count": 187,
   "metadata": {},
   "outputs": [],
   "source": [
    "for i in range(len(cont)):\n",
    "    if fuzzy_equals(cont[i], cont1[i]):\n",
    "        overlap.append(cont1[i])"
   ]
  },
  {
   "cell_type": "code",
   "execution_count": 192,
   "metadata": {},
   "outputs": [
    {
     "data": {
      "image/png": "[encoded data removed]",
      "text/plain": [
       "<Figure size 432x288 with 1 Axes>"
      ]
     },
     "metadata": {
      "needs_background": "light"
     },
     "output_type": "display_data"
    }
   ],
   "source": [
    "for o in overlap:\n",
    "    plt.scatter(o[0],o[1])\n",
    "plt.show()"
   ]
  },
  {
   "cell_type": "markdown",
   "metadata": {},
   "source": [
    "## WT Ratio "
   ]
  },
  {
   "cell_type": "code",
   "execution_count": 2,
   "metadata": {},
   "outputs": [],
   "source": [
    "lvwt = pd.read_csv('D:/UKB/ukbb_cardiac/wt_test.csv')\n",
    "rvwt = pd.read_csv('D:/UKB/ukbb_cardiac/wt_rv_test.csv')"
   ]
  },
  {
   "cell_type": "code",
   "execution_count": 4,
   "metadata": {},
   "outputs": [],
   "source": [
    "lvwt = lvwt.rename(columns={'Unnamed: 0':'idx'})\n",
    "rvwt = rvwt.rename(columns={'Unnamed: 0':'idx'})"
   ]
  },
  {
   "cell_type": "code",
   "execution_count": 5,
   "metadata": {},
   "outputs": [
    {
     "data": {
      "text/html": [
       "<div>\n",
       "<style scoped>\n",
       "    .dataframe tbody tr th:only-of-type {\n",
       "        vertical-align: middle;\n",
       "    }\n",
       "\n",
       "    .dataframe tbody tr th {\n",
       "        vertical-align: top;\n",
       "    }\n",
       "\n",
       "    .dataframe thead th {\n",
       "        text-align: right;\n",
       "    }\n",
       "</style>\n",
       "<table border=\"1\" class=\"dataframe\">\n",
       "  <thead>\n",
       "    <tr style=\"text-align: right;\">\n",
       "      <th></th>\n",
       "      <th>idx</th>\n",
       "      <th>WT_AHA_1 (mm)</th>\n",
       "      <th>WT_AHA_2 (mm)</th>\n",
       "      <th>WT_AHA_3 (mm)</th>\n",
       "      <th>WT_AHA_4 (mm)</th>\n",
       "      <th>WT_AHA_5 (mm)</th>\n",
       "      <th>WT_AHA_6 (mm)</th>\n",
       "      <th>WT_AHA_7 (mm)</th>\n",
       "      <th>WT_AHA_8 (mm)</th>\n",
       "      <th>WT_AHA_9 (mm)</th>\n",
       "      <th>WT_AHA_10 (mm)</th>\n",
       "      <th>WT_AHA_11 (mm)</th>\n",
       "      <th>WT_AHA_12 (mm)</th>\n",
       "      <th>WT_AHA_13 (mm)</th>\n",
       "      <th>WT_AHA_14 (mm)</th>\n",
       "      <th>WT_AHA_15 (mm)</th>\n",
       "      <th>WT_AHA_16 (mm)</th>\n",
       "      <th>WT_Global (mm)</th>\n",
       "    </tr>\n",
       "  </thead>\n",
       "  <tbody>\n",
       "    <tr>\n",
       "      <th>0</th>\n",
       "      <td>1000158</td>\n",
       "      <td>4.166978</td>\n",
       "      <td>5.602421</td>\n",
       "      <td>2.183013</td>\n",
       "      <td>3.431258</td>\n",
       "      <td>12.761274</td>\n",
       "      <td>6.187657</td>\n",
       "      <td>0.659610</td>\n",
       "      <td>0.191226</td>\n",
       "      <td>0.207894</td>\n",
       "      <td>0.243535</td>\n",
       "      <td>5.978085</td>\n",
       "      <td>13.772573</td>\n",
       "      <td>2.634920</td>\n",
       "      <td>0.192359</td>\n",
       "      <td>0.254687</td>\n",
       "      <td>6.126725</td>\n",
       "      <td>4.443957</td>\n",
       "    </tr>\n",
       "    <tr>\n",
       "      <th>1</th>\n",
       "      <td>1000243</td>\n",
       "      <td>10.200934</td>\n",
       "      <td>12.789775</td>\n",
       "      <td>7.650095</td>\n",
       "      <td>4.731575</td>\n",
       "      <td>13.228914</td>\n",
       "      <td>10.725562</td>\n",
       "      <td>0.289992</td>\n",
       "      <td>0.180204</td>\n",
       "      <td>0.191117</td>\n",
       "      <td>0.229949</td>\n",
       "      <td>7.261281</td>\n",
       "      <td>11.045595</td>\n",
       "      <td>3.083892</td>\n",
       "      <td>1.521639</td>\n",
       "      <td>1.810981</td>\n",
       "      <td>8.273745</td>\n",
       "      <td>6.355133</td>\n",
       "    </tr>\n",
       "    <tr>\n",
       "      <th>2</th>\n",
       "      <td>1000262</td>\n",
       "      <td>0.092208</td>\n",
       "      <td>0.075403</td>\n",
       "      <td>0.190363</td>\n",
       "      <td>0.193849</td>\n",
       "      <td>10.335364</td>\n",
       "      <td>6.823457</td>\n",
       "      <td>1.078693</td>\n",
       "      <td>0.194326</td>\n",
       "      <td>0.231196</td>\n",
       "      <td>0.153960</td>\n",
       "      <td>7.830747</td>\n",
       "      <td>14.254771</td>\n",
       "      <td>2.209628</td>\n",
       "      <td>0.236330</td>\n",
       "      <td>0.280434</td>\n",
       "      <td>5.126829</td>\n",
       "      <td>3.236974</td>\n",
       "    </tr>\n",
       "    <tr>\n",
       "      <th>3</th>\n",
       "      <td>1000369</td>\n",
       "      <td>4.613593</td>\n",
       "      <td>2.514218</td>\n",
       "      <td>0.586015</td>\n",
       "      <td>4.804327</td>\n",
       "      <td>12.541716</td>\n",
       "      <td>4.537775</td>\n",
       "      <td>0.235385</td>\n",
       "      <td>0.216380</td>\n",
       "      <td>0.213698</td>\n",
       "      <td>0.183541</td>\n",
       "      <td>11.942996</td>\n",
       "      <td>8.316191</td>\n",
       "      <td>1.272534</td>\n",
       "      <td>0.236418</td>\n",
       "      <td>0.565581</td>\n",
       "      <td>10.825139</td>\n",
       "      <td>3.716458</td>\n",
       "    </tr>\n",
       "    <tr>\n",
       "      <th>4</th>\n",
       "      <td>1000489</td>\n",
       "      <td>7.005453</td>\n",
       "      <td>11.156920</td>\n",
       "      <td>8.924324</td>\n",
       "      <td>4.052159</td>\n",
       "      <td>11.476860</td>\n",
       "      <td>12.301200</td>\n",
       "      <td>0.275512</td>\n",
       "      <td>0.281158</td>\n",
       "      <td>0.194110</td>\n",
       "      <td>0.253862</td>\n",
       "      <td>9.069053</td>\n",
       "      <td>11.641350</td>\n",
       "      <td>2.369142</td>\n",
       "      <td>0.194291</td>\n",
       "      <td>0.246379</td>\n",
       "      <td>8.799869</td>\n",
       "      <td>5.165451</td>\n",
       "    </tr>\n",
       "  </tbody>\n",
       "</table>\n",
       "</div>"
      ],
      "text/plain": [
       "       idx  WT_AHA_1 (mm)  WT_AHA_2 (mm)  WT_AHA_3 (mm)  WT_AHA_4 (mm)  \\\n",
       "0  1000158       4.166978       5.602421       2.183013       3.431258   \n",
       "1  1000243      10.200934      12.789775       7.650095       4.731575   \n",
       "2  1000262       0.092208       0.075403       0.190363       0.193849   \n",
       "3  1000369       4.613593       2.514218       0.586015       4.804327   \n",
       "4  1000489       7.005453      11.156920       8.924324       4.052159   \n",
       "\n",
       "   WT_AHA_5 (mm)  WT_AHA_6 (mm)  WT_AHA_7 (mm)  WT_AHA_8 (mm)  WT_AHA_9 (mm)  \\\n",
       "0      12.761274       6.187657       0.659610       0.191226       0.207894   \n",
       "1      13.228914      10.725562       0.289992       0.180204       0.191117   \n",
       "2      10.335364       6.823457       1.078693       0.194326       0.231196   \n",
       "3      12.541716       4.537775       0.235385       0.216380       0.213698   \n",
       "4      11.476860      12.301200       0.275512       0.281158       0.194110   \n",
       "\n",
       "   WT_AHA_10 (mm)  WT_AHA_11 (mm)  WT_AHA_12 (mm)  WT_AHA_13 (mm)  \\\n",
       "0        0.243535        5.978085       13.772573        2.634920   \n",
       "1        0.229949        7.261281       11.045595        3.083892   \n",
       "2        0.153960        7.830747       14.254771        2.209628   \n",
       "3        0.183541       11.942996        8.316191        1.272534   \n",
       "4        0.253862        9.069053       11.641350        2.369142   \n",
       "\n",
       "   WT_AHA_14 (mm)  WT_AHA_15 (mm)  WT_AHA_16 (mm)  WT_Global (mm)  \n",
       "0        0.192359        0.254687        6.126725        4.443957  \n",
       "1        1.521639        1.810981        8.273745        6.355133  \n",
       "2        0.236330        0.280434        5.126829        3.236974  \n",
       "3        0.236418        0.565581       10.825139        3.716458  \n",
       "4        0.194291        0.246379        8.799869        5.165451  "
      ]
     },
     "execution_count": 5,
     "metadata": {},
     "output_type": "execute_result"
    }
   ],
   "source": [
    "rvwt.head()"
   ]
  },
  {
   "cell_type": "code",
   "execution_count": 6,
   "metadata": {},
   "outputs": [],
   "source": [
    "wt_ratio = rvwt['WT_Global (mm)']/lvwt['WT_Global (mm)']"
   ]
  },
  {
   "cell_type": "code",
   "execution_count": 12,
   "metadata": {},
   "outputs": [
    {
     "data": {
      "text/plain": [
       "44492"
      ]
     },
     "execution_count": 12,
     "metadata": {},
     "output_type": "execute_result"
    }
   ],
   "source": [
    "len(wt_ratio)"
   ]
  },
  {
   "cell_type": "code",
   "execution_count": 22,
   "metadata": {},
   "outputs": [
    {
     "data": {
      "text/html": [
       "<div>\n",
       "<style scoped>\n",
       "    .dataframe tbody tr th:only-of-type {\n",
       "        vertical-align: middle;\n",
       "    }\n",
       "\n",
       "    .dataframe tbody tr th {\n",
       "        vertical-align: top;\n",
       "    }\n",
       "\n",
       "    .dataframe thead th {\n",
       "        text-align: right;\n",
       "    }\n",
       "</style>\n",
       "<table border=\"1\" class=\"dataframe\">\n",
       "  <thead>\n",
       "    <tr style=\"text-align: right;\">\n",
       "      <th></th>\n",
       "      <th>idx</th>\n",
       "      <th>pheno</th>\n",
       "    </tr>\n",
       "  </thead>\n",
       "  <tbody>\n",
       "    <tr>\n",
       "      <th>0</th>\n",
       "      <td>1000158.0</td>\n",
       "      <td>0.702391</td>\n",
       "    </tr>\n",
       "    <tr>\n",
       "      <th>1</th>\n",
       "      <td>1000243.0</td>\n",
       "      <td>1.033304</td>\n",
       "    </tr>\n",
       "    <tr>\n",
       "      <th>2</th>\n",
       "      <td>1000262.0</td>\n",
       "      <td>0.665256</td>\n",
       "    </tr>\n",
       "    <tr>\n",
       "      <th>3</th>\n",
       "      <td>1000369.0</td>\n",
       "      <td>0.709759</td>\n",
       "    </tr>\n",
       "    <tr>\n",
       "      <th>4</th>\n",
       "      <td>1000489.0</td>\n",
       "      <td>0.971311</td>\n",
       "    </tr>\n",
       "  </tbody>\n",
       "</table>\n",
       "</div>"
      ],
      "text/plain": [
       "         idx     pheno\n",
       "0  1000158.0  0.702391\n",
       "1  1000243.0  1.033304\n",
       "2  1000262.0  0.665256\n",
       "3  1000369.0  0.709759\n",
       "4  1000489.0  0.971311"
      ]
     },
     "execution_count": 22,
     "metadata": {},
     "output_type": "execute_result"
    }
   ],
   "source": [
    "d = {'idx':rvwt['idx'],'pheno':wt_ratio}\n",
    "df_wt = pd.DataFrame(d)\n",
    "df_wt.head()"
   ]
  },
  {
   "cell_type": "code",
   "execution_count": 23,
   "metadata": {},
   "outputs": [],
   "source": [
    "df_wt.to_csv('I:/UKB_DATA/tsv_pheno/wt_ratio.tsv',sep='\\t')"
   ]
  },
  {
   "cell_type": "code",
   "execution_count": 19,
   "metadata": {},
   "outputs": [
    {
     "data": {
      "image/png": "[encoded data removed]",
      "text/plain": [
       "<Figure size 720x504 with 1 Axes>"
      ]
     },
     "metadata": {
      "needs_background": "light"
     },
     "output_type": "display_data"
    }
   ],
   "source": [
    "plt.figure(figsize=(10,7))\n",
    "plt.hist(wt_ratio,color='maroon',bins=50)\n",
    "plt.title('RV/LV Wall Thickness Ratio')\n",
    "plt.show()"
   ]
  },
  {
   "cell_type": "code",
   "execution_count": 17,
   "metadata": {},
   "outputs": [
    {
     "name": "stdout",
     "output_type": "stream",
     "text": [
      "RV/LV WT mean, std, max, min:  0.7860395550083966 0.2484482373446905 3.0723156290989024 0.18656081973948033\n"
     ]
    }
   ],
   "source": [
    "print('RV/LV WT mean, std, max, min: ',np.mean(wt_ratio),np.std(wt_ratio),np.max(wt_ratio),np.min(wt_ratio))"
   ]
  },
  {
   "cell_type": "markdown",
   "metadata": {},
   "source": [
    "## EF Ratio "
   ]
  },
  {
   "cell_type": "code",
   "execution_count": 6,
   "metadata": {},
   "outputs": [],
   "source": [
    "lvedv = pd.read_csv('I:/UKB_DATA/tsv_pheno/filter_lvedv.tsv',sep='\\t')\n",
    "lvesv = pd.read_csv('I:/UKB_DATA/tsv_pheno/filter_lvesv.tsv',sep='\\t')\n",
    "rvesv = pd.read_csv('I:/UKB_DATA/tsv_pheno/filter_rvesv.tsv',sep='\\t')\n",
    "rvedv = pd.read_csv('I:/UKB_DATA/tsv_pheno/filter_rvedv.tsv',sep='\\t')"
   ]
  },
  {
   "cell_type": "code",
   "execution_count": 19,
   "metadata": {},
   "outputs": [
    {
     "data": {
      "text/html": [
       "<div>\n",
       "<style scoped>\n",
       "    .dataframe tbody tr th:only-of-type {\n",
       "        vertical-align: middle;\n",
       "    }\n",
       "\n",
       "    .dataframe tbody tr th {\n",
       "        vertical-align: top;\n",
       "    }\n",
       "\n",
       "    .dataframe thead th {\n",
       "        text-align: right;\n",
       "    }\n",
       "</style>\n",
       "<table border=\"1\" class=\"dataframe\">\n",
       "  <thead>\n",
       "    <tr style=\"text-align: right;\">\n",
       "      <th></th>\n",
       "      <th>Unnamed: 0</th>\n",
       "      <th>idx</th>\n",
       "      <th>pheno</th>\n",
       "    </tr>\n",
       "  </thead>\n",
       "  <tbody>\n",
       "    <tr>\n",
       "      <th>0</th>\n",
       "      <td>0</td>\n",
       "      <td>1000158</td>\n",
       "      <td>139.848210</td>\n",
       "    </tr>\n",
       "    <tr>\n",
       "      <th>1</th>\n",
       "      <td>1</td>\n",
       "      <td>1000243</td>\n",
       "      <td>137.187312</td>\n",
       "    </tr>\n",
       "    <tr>\n",
       "      <th>2</th>\n",
       "      <td>2</td>\n",
       "      <td>1000262</td>\n",
       "      <td>142.559277</td>\n",
       "    </tr>\n",
       "    <tr>\n",
       "      <th>3</th>\n",
       "      <td>3</td>\n",
       "      <td>1000369</td>\n",
       "      <td>120.311519</td>\n",
       "    </tr>\n",
       "    <tr>\n",
       "      <th>4</th>\n",
       "      <td>4</td>\n",
       "      <td>1000489</td>\n",
       "      <td>129.418282</td>\n",
       "    </tr>\n",
       "  </tbody>\n",
       "</table>\n",
       "</div>"
      ],
      "text/plain": [
       "   Unnamed: 0      idx       pheno\n",
       "0           0  1000158  139.848210\n",
       "1           1  1000243  137.187312\n",
       "2           2  1000262  142.559277\n",
       "3           3  1000369  120.311519\n",
       "4           4  1000489  129.418282"
      ]
     },
     "execution_count": 19,
     "metadata": {},
     "output_type": "execute_result"
    }
   ],
   "source": [
    "rvedv.head()"
   ]
  },
  {
   "cell_type": "code",
   "execution_count": 39,
   "metadata": {},
   "outputs": [],
   "source": [
    "rv = pd.merge(rvesv,rvedv,on='idx') "
   ]
  },
  {
   "cell_type": "code",
   "execution_count": 40,
   "metadata": {},
   "outputs": [],
   "source": [
    "rv.drop(columns=['Unnamed: 0_x','Unnamed: 0_y'],inplace=True)"
   ]
  },
  {
   "cell_type": "code",
   "execution_count": 41,
   "metadata": {},
   "outputs": [],
   "source": [
    "rv = rv.rename(columns={'pheno_x':'rvesv','pheno_y':'rvedv'})\n",
    "rv['rvsv'] = rv['rvedv'] - rv['rvesv']"
   ]
  },
  {
   "cell_type": "code",
   "execution_count": 42,
   "metadata": {},
   "outputs": [
    {
     "name": "stdout",
     "output_type": "stream",
     "text": [
      "Before QC:  44646\n"
     ]
    }
   ],
   "source": [
    "print('Before QC: ',rv.shape[0])"
   ]
  },
  {
   "cell_type": "code",
   "execution_count": 43,
   "metadata": {},
   "outputs": [
    {
     "name": "stdout",
     "output_type": "stream",
     "text": [
      "After QC:  44637\n"
     ]
    }
   ],
   "source": [
    "rv = rv[rv['rvsv'] > 0.]\n",
    "print('After QC: ', rv.shape[0])"
   ]
  },
  {
   "cell_type": "code",
   "execution_count": 44,
   "metadata": {},
   "outputs": [],
   "source": [
    "lv = pd.merge(lvesv,lvedv,on='idx')\n",
    "lv.drop(columns=['Unnamed: 0_x','Unnamed: 0_y'],inplace=True)\n",
    "lv = lv.rename(columns={'pheno_x':'lvesv','pheno_y':'lvedv'})\n",
    "lv['lvsv'] = lv['lvedv'] - lv['lvesv']"
   ]
  },
  {
   "cell_type": "code",
   "execution_count": 45,
   "metadata": {},
   "outputs": [
    {
     "name": "stdout",
     "output_type": "stream",
     "text": [
      "Before QC:  44646\n",
      "After QC:  44646\n"
     ]
    }
   ],
   "source": [
    "print('Before QC: ',lv.shape[0])\n",
    "lv = lv[lv['lvsv'] > 0.]\n",
    "print('After QC: ', lv.shape[0])"
   ]
  },
  {
   "cell_type": "code",
   "execution_count": 46,
   "metadata": {},
   "outputs": [
    {
     "name": "stdout",
     "output_type": "stream",
     "text": [
      "Intersection of LV and RV phenotypes:  44637\n"
     ]
    }
   ],
   "source": [
    "lv = lv[lv['idx'].isin(rv['idx'])]\n",
    "print('Intersection of LV and RV phenotypes: ', lv.shape[0])"
   ]
  },
  {
   "cell_type": "code",
   "execution_count": 47,
   "metadata": {},
   "outputs": [],
   "source": [
    "rv['rvef'] = rv['rvsv']/rv['rvedv']\n",
    "lv['lvef'] = lv['lvsv']/lv['lvedv']"
   ]
  },
  {
   "cell_type": "code",
   "execution_count": 51,
   "metadata": {},
   "outputs": [],
   "source": [
    "ef_ratio = rv['rvef']/lv['lvef']"
   ]
  },
  {
   "cell_type": "code",
   "execution_count": 54,
   "metadata": {},
   "outputs": [
    {
     "name": "stdout",
     "output_type": "stream",
     "text": [
      "3.7884684567403557 0.052034601590755\n"
     ]
    }
   ],
   "source": [
    "print(max(ef_ratio),min(ef_ratio))"
   ]
  },
  {
   "cell_type": "code",
   "execution_count": 53,
   "metadata": {},
   "outputs": [
    {
     "data": {
      "image/png": "[encoded data removed]",
      "text/plain": [
       "<Figure size 432x288 with 1 Axes>"
      ]
     },
     "metadata": {
      "needs_background": "light"
     },
     "output_type": "display_data"
    }
   ],
   "source": [
    "plt.hist(ef_ratio,bins=100,color='royalblue')\n",
    "plt.ylabel('RVEF/LVEF')\n",
    "plt.title('EF Ratio in UKBB')\n",
    "plt.show()"
   ]
  },
  {
   "cell_type": "code",
   "execution_count": 55,
   "metadata": {},
   "outputs": [
    {
     "data": {
      "text/html": [
       "<div>\n",
       "<style scoped>\n",
       "    .dataframe tbody tr th:only-of-type {\n",
       "        vertical-align: middle;\n",
       "    }\n",
       "\n",
       "    .dataframe tbody tr th {\n",
       "        vertical-align: top;\n",
       "    }\n",
       "\n",
       "    .dataframe thead th {\n",
       "        text-align: right;\n",
       "    }\n",
       "</style>\n",
       "<table border=\"1\" class=\"dataframe\">\n",
       "  <thead>\n",
       "    <tr style=\"text-align: right;\">\n",
       "      <th></th>\n",
       "      <th>idx</th>\n",
       "      <th>rvesv</th>\n",
       "      <th>rvedv</th>\n",
       "      <th>rvsv</th>\n",
       "      <th>rvef</th>\n",
       "      <th>Unnamed: 0.1_x</th>\n",
       "      <th>Unnamed: 0.1.1_x</th>\n",
       "      <th>lvesv</th>\n",
       "      <th>Unnamed: 0.1_y</th>\n",
       "      <th>Unnamed: 0.1.1_y</th>\n",
       "      <th>lvedv</th>\n",
       "      <th>lvsv</th>\n",
       "      <th>lvef</th>\n",
       "    </tr>\n",
       "  </thead>\n",
       "  <tbody>\n",
       "    <tr>\n",
       "      <th>0</th>\n",
       "      <td>1000158</td>\n",
       "      <td>77.352526</td>\n",
       "      <td>139.848210</td>\n",
       "      <td>62.495684</td>\n",
       "      <td>0.446882</td>\n",
       "      <td>0</td>\n",
       "      <td>0</td>\n",
       "      <td>61.696808</td>\n",
       "      <td>0</td>\n",
       "      <td>0</td>\n",
       "      <td>158.741292</td>\n",
       "      <td>97.044484</td>\n",
       "      <td>0.611337</td>\n",
       "    </tr>\n",
       "    <tr>\n",
       "      <th>1</th>\n",
       "      <td>1000243</td>\n",
       "      <td>54.248591</td>\n",
       "      <td>137.187312</td>\n",
       "      <td>82.938721</td>\n",
       "      <td>0.604566</td>\n",
       "      <td>1</td>\n",
       "      <td>1</td>\n",
       "      <td>60.936220</td>\n",
       "      <td>1</td>\n",
       "      <td>1</td>\n",
       "      <td>145.006383</td>\n",
       "      <td>84.070163</td>\n",
       "      <td>0.579769</td>\n",
       "    </tr>\n",
       "    <tr>\n",
       "      <th>2</th>\n",
       "      <td>1000262</td>\n",
       "      <td>54.112948</td>\n",
       "      <td>142.559277</td>\n",
       "      <td>88.446329</td>\n",
       "      <td>0.620418</td>\n",
       "      <td>2</td>\n",
       "      <td>2</td>\n",
       "      <td>54.095926</td>\n",
       "      <td>2</td>\n",
       "      <td>2</td>\n",
       "      <td>136.482422</td>\n",
       "      <td>82.386496</td>\n",
       "      <td>0.603642</td>\n",
       "    </tr>\n",
       "    <tr>\n",
       "      <th>3</th>\n",
       "      <td>1000369</td>\n",
       "      <td>43.082690</td>\n",
       "      <td>120.311519</td>\n",
       "      <td>77.228829</td>\n",
       "      <td>0.641907</td>\n",
       "      <td>3</td>\n",
       "      <td>3</td>\n",
       "      <td>43.610372</td>\n",
       "      <td>3</td>\n",
       "      <td>3</td>\n",
       "      <td>122.030741</td>\n",
       "      <td>78.420369</td>\n",
       "      <td>0.642628</td>\n",
       "    </tr>\n",
       "    <tr>\n",
       "      <th>4</th>\n",
       "      <td>1000489</td>\n",
       "      <td>60.138734</td>\n",
       "      <td>129.418282</td>\n",
       "      <td>69.279549</td>\n",
       "      <td>0.535315</td>\n",
       "      <td>4</td>\n",
       "      <td>4</td>\n",
       "      <td>51.542622</td>\n",
       "      <td>4</td>\n",
       "      <td>4</td>\n",
       "      <td>132.533309</td>\n",
       "      <td>80.990686</td>\n",
       "      <td>0.611097</td>\n",
       "    </tr>\n",
       "  </tbody>\n",
       "</table>\n",
       "</div>"
      ],
      "text/plain": [
       "       idx      rvesv       rvedv       rvsv      rvef  Unnamed: 0.1_x  \\\n",
       "0  1000158  77.352526  139.848210  62.495684  0.446882               0   \n",
       "1  1000243  54.248591  137.187312  82.938721  0.604566               1   \n",
       "2  1000262  54.112948  142.559277  88.446329  0.620418               2   \n",
       "3  1000369  43.082690  120.311519  77.228829  0.641907               3   \n",
       "4  1000489  60.138734  129.418282  69.279549  0.535315               4   \n",
       "\n",
       "   Unnamed: 0.1.1_x      lvesv  Unnamed: 0.1_y  Unnamed: 0.1.1_y       lvedv  \\\n",
       "0                 0  61.696808               0                 0  158.741292   \n",
       "1                 1  60.936220               1                 1  145.006383   \n",
       "2                 2  54.095926               2                 2  136.482422   \n",
       "3                 3  43.610372               3                 3  122.030741   \n",
       "4                 4  51.542622               4                 4  132.533309   \n",
       "\n",
       "        lvsv      lvef  \n",
       "0  97.044484  0.611337  \n",
       "1  84.070163  0.579769  \n",
       "2  82.386496  0.603642  \n",
       "3  78.420369  0.642628  \n",
       "4  80.990686  0.611097  "
      ]
     },
     "execution_count": 55,
     "metadata": {},
     "output_type": "execute_result"
    }
   ],
   "source": [
    "all_rv_lv = pd.merge(rv,lv,on='idx')\n",
    "all_rv_lv.head()"
   ]
  },
  {
   "cell_type": "code",
   "execution_count": 56,
   "metadata": {},
   "outputs": [],
   "source": [
    "all_rv_lv.drop(columns=['Unnamed: 0.1_x','Unnamed: 0.1.1_x','Unnamed: 0.1_y','Unnamed: 0.1.1_y'],inplace=True)\n",
    "all_rv_lv['ef ratio'] = all_rv_lv['rvef']/all_rv_lv['lvef']"
   ]
  },
  {
   "cell_type": "code",
   "execution_count": 57,
   "metadata": {},
   "outputs": [
    {
     "data": {
      "text/html": [
       "<div>\n",
       "<style scoped>\n",
       "    .dataframe tbody tr th:only-of-type {\n",
       "        vertical-align: middle;\n",
       "    }\n",
       "\n",
       "    .dataframe tbody tr th {\n",
       "        vertical-align: top;\n",
       "    }\n",
       "\n",
       "    .dataframe thead th {\n",
       "        text-align: right;\n",
       "    }\n",
       "</style>\n",
       "<table border=\"1\" class=\"dataframe\">\n",
       "  <thead>\n",
       "    <tr style=\"text-align: right;\">\n",
       "      <th></th>\n",
       "      <th>idx</th>\n",
       "      <th>rvesv</th>\n",
       "      <th>rvedv</th>\n",
       "      <th>rvsv</th>\n",
       "      <th>rvef</th>\n",
       "      <th>lvesv</th>\n",
       "      <th>lvedv</th>\n",
       "      <th>lvsv</th>\n",
       "      <th>lvef</th>\n",
       "      <th>ef ratio</th>\n",
       "    </tr>\n",
       "  </thead>\n",
       "  <tbody>\n",
       "    <tr>\n",
       "      <th>0</th>\n",
       "      <td>1000158</td>\n",
       "      <td>77.352526</td>\n",
       "      <td>139.848210</td>\n",
       "      <td>62.495684</td>\n",
       "      <td>0.446882</td>\n",
       "      <td>61.696808</td>\n",
       "      <td>158.741292</td>\n",
       "      <td>97.044484</td>\n",
       "      <td>0.611337</td>\n",
       "      <td>0.730991</td>\n",
       "    </tr>\n",
       "    <tr>\n",
       "      <th>1</th>\n",
       "      <td>1000243</td>\n",
       "      <td>54.248591</td>\n",
       "      <td>137.187312</td>\n",
       "      <td>82.938721</td>\n",
       "      <td>0.604566</td>\n",
       "      <td>60.936220</td>\n",
       "      <td>145.006383</td>\n",
       "      <td>84.070163</td>\n",
       "      <td>0.579769</td>\n",
       "      <td>1.042770</td>\n",
       "    </tr>\n",
       "    <tr>\n",
       "      <th>2</th>\n",
       "      <td>1000262</td>\n",
       "      <td>54.112948</td>\n",
       "      <td>142.559277</td>\n",
       "      <td>88.446329</td>\n",
       "      <td>0.620418</td>\n",
       "      <td>54.095926</td>\n",
       "      <td>136.482422</td>\n",
       "      <td>82.386496</td>\n",
       "      <td>0.603642</td>\n",
       "      <td>1.027791</td>\n",
       "    </tr>\n",
       "    <tr>\n",
       "      <th>3</th>\n",
       "      <td>1000369</td>\n",
       "      <td>43.082690</td>\n",
       "      <td>120.311519</td>\n",
       "      <td>77.228829</td>\n",
       "      <td>0.641907</td>\n",
       "      <td>43.610372</td>\n",
       "      <td>122.030741</td>\n",
       "      <td>78.420369</td>\n",
       "      <td>0.642628</td>\n",
       "      <td>0.998878</td>\n",
       "    </tr>\n",
       "    <tr>\n",
       "      <th>4</th>\n",
       "      <td>1000489</td>\n",
       "      <td>60.138734</td>\n",
       "      <td>129.418282</td>\n",
       "      <td>69.279549</td>\n",
       "      <td>0.535315</td>\n",
       "      <td>51.542622</td>\n",
       "      <td>132.533309</td>\n",
       "      <td>80.990686</td>\n",
       "      <td>0.611097</td>\n",
       "      <td>0.875990</td>\n",
       "    </tr>\n",
       "  </tbody>\n",
       "</table>\n",
       "</div>"
      ],
      "text/plain": [
       "       idx      rvesv       rvedv       rvsv      rvef      lvesv       lvedv  \\\n",
       "0  1000158  77.352526  139.848210  62.495684  0.446882  61.696808  158.741292   \n",
       "1  1000243  54.248591  137.187312  82.938721  0.604566  60.936220  145.006383   \n",
       "2  1000262  54.112948  142.559277  88.446329  0.620418  54.095926  136.482422   \n",
       "3  1000369  43.082690  120.311519  77.228829  0.641907  43.610372  122.030741   \n",
       "4  1000489  60.138734  129.418282  69.279549  0.535315  51.542622  132.533309   \n",
       "\n",
       "        lvsv      lvef  ef ratio  \n",
       "0  97.044484  0.611337  0.730991  \n",
       "1  84.070163  0.579769  1.042770  \n",
       "2  82.386496  0.603642  1.027791  \n",
       "3  78.420369  0.642628  0.998878  \n",
       "4  80.990686  0.611097  0.875990  "
      ]
     },
     "execution_count": 57,
     "metadata": {},
     "output_type": "execute_result"
    }
   ],
   "source": [
    "all_rv_lv.head()"
   ]
  },
  {
   "cell_type": "code",
   "execution_count": 61,
   "metadata": {},
   "outputs": [
    {
     "name": "stdout",
     "output_type": "stream",
     "text": [
      "N = 44637 participants\n"
     ]
    }
   ],
   "source": [
    "print('N =',all_rv_lv.shape[0],'participants')"
   ]
  },
  {
   "cell_type": "code",
   "execution_count": 25,
   "metadata": {},
   "outputs": [
    {
     "data": {
      "text/html": [
       "<div>\n",
       "<style scoped>\n",
       "    .dataframe tbody tr th:only-of-type {\n",
       "        vertical-align: middle;\n",
       "    }\n",
       "\n",
       "    .dataframe tbody tr th {\n",
       "        vertical-align: top;\n",
       "    }\n",
       "\n",
       "    .dataframe thead th {\n",
       "        text-align: right;\n",
       "    }\n",
       "</style>\n",
       "<table border=\"1\" class=\"dataframe\">\n",
       "  <thead>\n",
       "    <tr style=\"text-align: right;\">\n",
       "      <th></th>\n",
       "      <th>Unnamed: 0</th>\n",
       "      <th>idx</th>\n",
       "      <th>rvesv</th>\n",
       "      <th>rvedv</th>\n",
       "      <th>rvsv</th>\n",
       "      <th>rvef</th>\n",
       "      <th>lvesv</th>\n",
       "      <th>lvedv</th>\n",
       "      <th>lvsv</th>\n",
       "      <th>lvef</th>\n",
       "      <th>ef ratio</th>\n",
       "    </tr>\n",
       "  </thead>\n",
       "  <tbody>\n",
       "    <tr>\n",
       "      <th>0</th>\n",
       "      <td>0</td>\n",
       "      <td>1000158</td>\n",
       "      <td>77.352526</td>\n",
       "      <td>139.848210</td>\n",
       "      <td>62.495684</td>\n",
       "      <td>0.446882</td>\n",
       "      <td>61.696808</td>\n",
       "      <td>158.741292</td>\n",
       "      <td>97.044484</td>\n",
       "      <td>0.611337</td>\n",
       "      <td>0.730991</td>\n",
       "    </tr>\n",
       "    <tr>\n",
       "      <th>1</th>\n",
       "      <td>1</td>\n",
       "      <td>1000243</td>\n",
       "      <td>54.248591</td>\n",
       "      <td>137.187312</td>\n",
       "      <td>82.938721</td>\n",
       "      <td>0.604566</td>\n",
       "      <td>60.936220</td>\n",
       "      <td>145.006383</td>\n",
       "      <td>84.070163</td>\n",
       "      <td>0.579769</td>\n",
       "      <td>1.042770</td>\n",
       "    </tr>\n",
       "    <tr>\n",
       "      <th>2</th>\n",
       "      <td>2</td>\n",
       "      <td>1000262</td>\n",
       "      <td>54.112948</td>\n",
       "      <td>142.559277</td>\n",
       "      <td>88.446329</td>\n",
       "      <td>0.620418</td>\n",
       "      <td>54.095926</td>\n",
       "      <td>136.482422</td>\n",
       "      <td>82.386496</td>\n",
       "      <td>0.603642</td>\n",
       "      <td>1.027791</td>\n",
       "    </tr>\n",
       "    <tr>\n",
       "      <th>3</th>\n",
       "      <td>3</td>\n",
       "      <td>1000369</td>\n",
       "      <td>43.082690</td>\n",
       "      <td>120.311519</td>\n",
       "      <td>77.228829</td>\n",
       "      <td>0.641907</td>\n",
       "      <td>43.610372</td>\n",
       "      <td>122.030741</td>\n",
       "      <td>78.420369</td>\n",
       "      <td>0.642628</td>\n",
       "      <td>0.998878</td>\n",
       "    </tr>\n",
       "    <tr>\n",
       "      <th>4</th>\n",
       "      <td>4</td>\n",
       "      <td>1000489</td>\n",
       "      <td>60.138734</td>\n",
       "      <td>129.418282</td>\n",
       "      <td>69.279549</td>\n",
       "      <td>0.535315</td>\n",
       "      <td>51.542622</td>\n",
       "      <td>132.533309</td>\n",
       "      <td>80.990686</td>\n",
       "      <td>0.611097</td>\n",
       "      <td>0.875990</td>\n",
       "    </tr>\n",
       "  </tbody>\n",
       "</table>\n",
       "</div>"
      ],
      "text/plain": [
       "   Unnamed: 0      idx      rvesv       rvedv       rvsv      rvef      lvesv  \\\n",
       "0           0  1000158  77.352526  139.848210  62.495684  0.446882  61.696808   \n",
       "1           1  1000243  54.248591  137.187312  82.938721  0.604566  60.936220   \n",
       "2           2  1000262  54.112948  142.559277  88.446329  0.620418  54.095926   \n",
       "3           3  1000369  43.082690  120.311519  77.228829  0.641907  43.610372   \n",
       "4           4  1000489  60.138734  129.418282  69.279549  0.535315  51.542622   \n",
       "\n",
       "        lvedv       lvsv      lvef  ef ratio  \n",
       "0  158.741292  97.044484  0.611337  0.730991  \n",
       "1  145.006383  84.070163  0.579769  1.042770  \n",
       "2  136.482422  82.386496  0.603642  1.027791  \n",
       "3  122.030741  78.420369  0.642628  0.998878  \n",
       "4  132.533309  80.990686  0.611097  0.875990  "
      ]
     },
     "execution_count": 25,
     "metadata": {},
     "output_type": "execute_result"
    }
   ],
   "source": [
    "edit = pd.read_csv('I:/UKB_DATA/tsv_pheno/filter_ukbb_rv_lv_ef.tsv',sep='\\t')\n",
    "edit.head()"
   ]
  },
  {
   "cell_type": "code",
   "execution_count": 26,
   "metadata": {},
   "outputs": [],
   "source": [
    "edit = edit.rename(columns={'ef ratio':'pheno'})"
   ]
  },
  {
   "cell_type": "code",
   "execution_count": 27,
   "metadata": {},
   "outputs": [],
   "source": [
    "edit.to_csv('I:/UKB_DATA/tsv_pheno/filter_ukbb_ef_ratio.tsv',sep='\\t')"
   ]
  },
  {
   "cell_type": "code",
   "execution_count": 62,
   "metadata": {},
   "outputs": [],
   "source": [
    "all_rv_lv.to_csv('I:/UKB_DATA/tsv_pheno/filter_ukbb_rv_lv_ef.tsv',sep='\\t')"
   ]
  },
  {
   "cell_type": "markdown",
   "metadata": {},
   "source": [
    "## ----------------- PREV -------------------"
   ]
  },
  {
   "cell_type": "code",
   "execution_count": 10,
   "metadata": {},
   "outputs": [],
   "source": [
    "def calc_ef(df1, df2, col):\n",
    "    df1 = df1.dropna()\n",
    "    df2 = df2.dropna()\n",
    "    sv = df2[col] - df1[col]\n",
    "    return sv/df2[col]"
   ]
  },
  {
   "cell_type": "code",
   "execution_count": 11,
   "metadata": {},
   "outputs": [],
   "source": [
    "lvef = calc_ef(lvesv,lvedv,'pheno')\n",
    "rvef = calc_ef(rvesv,rvedv,'pheno')"
   ]
  },
  {
   "cell_type": "code",
   "execution_count": 12,
   "metadata": {},
   "outputs": [
    {
     "data": {
      "text/plain": [
       "(44654, 44654)"
      ]
     },
     "execution_count": 12,
     "metadata": {},
     "output_type": "execute_result"
    }
   ],
   "source": [
    "len(lvef), len(rvef)"
   ]
  },
  {
   "cell_type": "code",
   "execution_count": 13,
   "metadata": {},
   "outputs": [],
   "source": [
    "ef_ratio = rvef/lvef"
   ]
  },
  {
   "cell_type": "code",
   "execution_count": 16,
   "metadata": {},
   "outputs": [
    {
     "data": {
      "text/plain": [
       "(879.2743170030466, -492.5663089226438)"
      ]
     },
     "execution_count": 16,
     "metadata": {},
     "output_type": "execute_result"
    }
   ],
   "source": [
    "max(ef_ratio),min(ef_ratio)"
   ]
  },
  {
   "cell_type": "code",
   "execution_count": 15,
   "metadata": {},
   "outputs": [
    {
     "data": {
      "text/plain": [
       "Text(0.5, 1.0, 'EF Ratio in UKBB Participants')"
      ]
     },
     "execution_count": 15,
     "metadata": {},
     "output_type": "execute_result"
    },
    {
     "data": {
      "image/png": "[encoded data removed]",
      "text/plain": [
       "<Figure size 432x288 with 1 Axes>"
      ]
     },
     "metadata": {
      "needs_background": "light"
     },
     "output_type": "display_data"
    }
   ],
   "source": [
    "plt.hist(ef_ratio,color='royalblue',bins=100)\n",
    "plt.ylabel('RVEF/LVEF')\n",
    "plt.title('EF Ratio in UKBB Participants')"
   ]
  },
  {
   "cell_type": "code",
   "execution_count": null,
   "metadata": {},
   "outputs": [],
   "source": []
  }
 ],
 "metadata": {
  "kernelspec": {
   "display_name": "Python 3 (ipykernel)",
   "language": "python",
   "name": "python3"
  },
  "language_info": {
   "codemirror_mode": {
    "name": "ipython",
    "version": 3
   },
   "file_extension": ".py",
   "mimetype": "text/x-python",
   "name": "python",
   "nbconvert_exporter": "python",
   "pygments_lexer": "ipython3",
   "version": "3.9.15"
  }
 },
 "nbformat": 4,
 "nbformat_minor": 4
}
